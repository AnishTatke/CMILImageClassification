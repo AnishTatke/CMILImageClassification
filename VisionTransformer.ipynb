{
 "cells": [
  {
   "cell_type": "markdown",
   "metadata": {},
   "source": [
    "# Vision Transformer Implementation\n",
    "\n",
    "[ViT Docs](https://huggingface.co/docs/transformers/en/model_doc/vit)"
   ]
  },
  {
   "cell_type": "markdown",
   "metadata": {},
   "source": [
    "### Abstract\n",
    "While the Transformer architecture has become the de-facto standard for natural language processing tasks, its applications to computer vision remain limited. In vision, attention is either applied in conjunction with convolutional networks, or used to replace certain components of convolutional networks while keeping their overall structure in place. We show that this reliance on CNNs is not necessary and a pure transformer applied directly to sequences of image patches can perform very well on image classification tasks.[[1]](#1)\n",
    "\n",
    "![ViT Architecture](https://huggingface.co/datasets/huggingface/documentation-images/resolve/main/transformers/model_doc/vit_architecture.jpg)"
   ]
  },
  {
   "cell_type": "markdown",
   "metadata": {},
   "source": [
    "## Installation\n",
    "\n",
    "Run the following commands to install the required libraries and dependencies on the virtual environment.\n",
    "```shell\n",
    "conda activate env/cmil\n",
    "conda install transformers datasets accelerate -c conda-forge\n",
    "```\n"
   ]
  },
  {
   "cell_type": "markdown",
   "metadata": {},
   "source": [
    "## Hugging Face Hub and Credentials\n",
    "\n",
    "We need the hugging face read/write API token to run this notebook. Please run the cell below and paste your API key for accessing model checkpoint."
   ]
  },
  {
   "cell_type": "code",
   "execution_count": 1,
   "metadata": {},
   "outputs": [
    {
     "data": {
      "application/vnd.jupyter.widget-view+json": {
       "model_id": "e2cbddb55d04485da77ae534bc82e077",
       "version_major": 2,
       "version_minor": 0
      },
      "text/plain": [
       "VBox(children=(HTML(value='<center> <img\\nsrc=https://huggingface.co/front/assets/huggingface_logo-noborder.sv…"
      ]
     },
     "metadata": {},
     "output_type": "display_data"
    }
   ],
   "source": [
    "from huggingface_hub import notebook_login\n",
    "notebook_login()"
   ]
  },
  {
   "cell_type": "code",
   "execution_count": 55,
   "metadata": {},
   "outputs": [],
   "source": [
    "import os\n",
    "import torch\n",
    "import numpy as np\n",
    "import pandas as pd\n",
    "import warnings\n",
    "warnings.filterwarnings(\"ignore\")\n",
    "\n",
    "from PIL import Image\n",
    "from datasets import Dataset, load_metric\n",
    "from transformers import AutoImageProcessor, DefaultDataCollator, Trainer, TrainingArguments, AutoModelForImageClassification\n",
    "from torchvision.transforms import RandomResizedCrop, ToTensor, Normalize, Compose"
   ]
  },
  {
   "cell_type": "code",
   "execution_count": 3,
   "metadata": {},
   "outputs": [
    {
     "data": {
      "text/html": [
       "<div>\n",
       "<style scoped>\n",
       "    .dataframe tbody tr th:only-of-type {\n",
       "        vertical-align: middle;\n",
       "    }\n",
       "\n",
       "    .dataframe tbody tr th {\n",
       "        vertical-align: top;\n",
       "    }\n",
       "\n",
       "    .dataframe thead th {\n",
       "        text-align: right;\n",
       "    }\n",
       "</style>\n",
       "<table border=\"1\" class=\"dataframe\">\n",
       "  <thead>\n",
       "    <tr style=\"text-align: right;\">\n",
       "      <th></th>\n",
       "      <th>name</th>\n",
       "      <th>ground truth</th>\n",
       "      <th>path</th>\n",
       "    </tr>\n",
       "  </thead>\n",
       "  <tbody>\n",
       "    <tr>\n",
       "      <th>0</th>\n",
       "      <td>S-2006-005094_PAS_1of2_64552732435c92704a3d37c...</td>\n",
       "      <td>0</td>\n",
       "      <td>public/non_globally_sclerotic_glomeruli/S-2006...</td>\n",
       "    </tr>\n",
       "    <tr>\n",
       "      <th>1</th>\n",
       "      <td>S-2006-005094_PAS_1of2_64552732435c92704a3d37c...</td>\n",
       "      <td>0</td>\n",
       "      <td>public/non_globally_sclerotic_glomeruli/S-2006...</td>\n",
       "    </tr>\n",
       "    <tr>\n",
       "      <th>2</th>\n",
       "      <td>S-2006-005094_PAS_1of2_64552732435c92704a3d37c...</td>\n",
       "      <td>0</td>\n",
       "      <td>public/non_globally_sclerotic_glomeruli/S-2006...</td>\n",
       "    </tr>\n",
       "    <tr>\n",
       "      <th>3</th>\n",
       "      <td>S-2006-005094_PAS_1of2_64552732435c92704a3d37c...</td>\n",
       "      <td>0</td>\n",
       "      <td>public/non_globally_sclerotic_glomeruli/S-2006...</td>\n",
       "    </tr>\n",
       "    <tr>\n",
       "      <th>4</th>\n",
       "      <td>S-2006-005094_PAS_1of2_64552732435c92704a3d37d...</td>\n",
       "      <td>0</td>\n",
       "      <td>public/non_globally_sclerotic_glomeruli/S-2006...</td>\n",
       "    </tr>\n",
       "  </tbody>\n",
       "</table>\n",
       "</div>"
      ],
      "text/plain": [
       "                                                name  ground truth  \\\n",
       "0  S-2006-005094_PAS_1of2_64552732435c92704a3d37c...             0   \n",
       "1  S-2006-005094_PAS_1of2_64552732435c92704a3d37c...             0   \n",
       "2  S-2006-005094_PAS_1of2_64552732435c92704a3d37c...             0   \n",
       "3  S-2006-005094_PAS_1of2_64552732435c92704a3d37c...             0   \n",
       "4  S-2006-005094_PAS_1of2_64552732435c92704a3d37d...             0   \n",
       "\n",
       "                                                path  \n",
       "0  public/non_globally_sclerotic_glomeruli/S-2006...  \n",
       "1  public/non_globally_sclerotic_glomeruli/S-2006...  \n",
       "2  public/non_globally_sclerotic_glomeruli/S-2006...  \n",
       "3  public/non_globally_sclerotic_glomeruli/S-2006...  \n",
       "4  public/non_globally_sclerotic_glomeruli/S-2006...  "
      ]
     },
     "execution_count": 3,
     "metadata": {},
     "output_type": "execute_result"
    }
   ],
   "source": [
    "df = pd.read_csv('public/public.csv')\n",
    "num_classes = ['non_globally_sclerotic_glomeruli', 'globally_sclerotic_glomeruli']\n",
    "df['path'] = df.apply(lambda x: f\"public/{num_classes[x['ground truth']]}/{x['name']}\", axis=1)\n",
    "df.head()"
   ]
  },
  {
   "cell_type": "code",
   "execution_count": 4,
   "metadata": {},
   "outputs": [
    {
     "data": {
      "application/vnd.jupyter.widget-view+json": {
       "model_id": "24c87e0ed50940a9a1d7fc63ceae4b8f",
       "version_major": 2,
       "version_minor": 0
      },
      "text/plain": [
       "Map:   0%|          | 0/5758 [00:00<?, ? examples/s]"
      ]
     },
     "metadata": {},
     "output_type": "display_data"
    }
   ],
   "source": [
    "dataset = Dataset.from_pandas(df)\n",
    "dataset = dataset.map(lambda x: {'image': Image.open(x['path']).convert('RGB'), 'label': x['ground truth']}, remove_columns=['path', 'name', 'ground truth'])"
   ]
  },
  {
   "cell_type": "code",
   "execution_count": 7,
   "metadata": {},
   "outputs": [],
   "source": [
    "dataset = dataset.train_test_split(test_size=0.2)"
   ]
  },
  {
   "cell_type": "code",
   "execution_count": 8,
   "metadata": {},
   "outputs": [],
   "source": [
    "label2id, id2label = {}, {}\n",
    "for i, label in enumerate(num_classes):\n",
    "    label2id[label] = i\n",
    "    id2label[i] = label"
   ]
  },
  {
   "cell_type": "code",
   "execution_count": 76,
   "metadata": {},
   "outputs": [],
   "source": [
    "checkpoint = \"google/vit-base-patch16-224-in21k\"\n",
    "image_size = 224\n",
    "processor = AutoImageProcessor.from_pretrained(checkpoint, size=image_size)"
   ]
  },
  {
   "cell_type": "code",
   "execution_count": 77,
   "metadata": {},
   "outputs": [],
   "source": [
    "_transforms = Compose([\n",
    "    ToTensor(),\n",
    "    Normalize(mean=processor.image_mean, std=processor.image_std)\n",
    "])\n",
    "\n",
    "def transform(examples):\n",
    "    inputs = processor([image for image in examples['image']], return_tensors=\"pt\")\n",
    "    inputs['label'] = examples['label']\n",
    "    return inputs"
   ]
  },
  {
   "cell_type": "code",
   "execution_count": 78,
   "metadata": {},
   "outputs": [
    {
     "data": {
      "text/plain": [
       "{'image': <PIL.PngImagePlugin.PngImageFile image mode=RGB size=788x807>,\n",
       " 'label': 0}"
      ]
     },
     "execution_count": 78,
     "metadata": {},
     "output_type": "execute_result"
    }
   ],
   "source": [
    "dataset['train'][0]"
   ]
  },
  {
   "cell_type": "code",
   "execution_count": 79,
   "metadata": {},
   "outputs": [],
   "source": [
    "ds = dataset.with_transform(transform)"
   ]
  },
  {
   "cell_type": "code",
   "execution_count": 80,
   "metadata": {},
   "outputs": [],
   "source": [
    "def collate_fn(batch):\n",
    "    return {\n",
    "        'pixel_values': torch.stack([x['pixel_values'] for x in batch]),\n",
    "        'labels': torch.tensor([x['label'] for x in batch])\n",
    "    }"
   ]
  },
  {
   "cell_type": "code",
   "execution_count": 82,
   "metadata": {},
   "outputs": [],
   "source": [
    "metric = load_metric(\"accuracy\", trust_remote_code=True)\n",
    "\n",
    "def compute_metrics(p):\n",
    "    preds = np.argmax(p.predictions, axis=1)\n",
    "    return metric.compute(predictions=preds, references=p.label_ids)"
   ]
  },
  {
   "cell_type": "code",
   "execution_count": 83,
   "metadata": {},
   "outputs": [
    {
     "name": "stderr",
     "output_type": "stream",
     "text": [
      "Some weights of ViTForImageClassification were not initialized from the model checkpoint at google/vit-base-patch16-224-in21k and are newly initialized: ['classifier.bias', 'classifier.weight']\n",
      "You should probably TRAIN this model on a down-stream task to be able to use it for predictions and inference.\n"
     ]
    }
   ],
   "source": [
    "model = AutoModelForImageClassification.from_pretrained(\n",
    "    checkpoint,\n",
    "    num_labels=len(num_classes),\n",
    "    id2label=id2label,\n",
    "    label2id=label2id\n",
    ")"
   ]
  },
  {
   "cell_type": "code",
   "execution_count": 84,
   "metadata": {},
   "outputs": [],
   "source": [
    "training_args = TrainingArguments(\n",
    "    output_dir=\"./results\",\n",
    "    per_device_train_batch_size=16,\n",
    "    per_device_eval_batch_size=8,\n",
    "    remove_unused_columns=False,\n",
    "    num_train_epochs=3,\n",
    "    logging_dir=\"./logs\",\n",
    "    logging_steps=10,\n",
    "    evaluation_strategy=\"steps\",\n",
    "    eval_steps=10,\n",
    "    load_best_model_at_end=True,\n",
    "    metric_for_best_model=\"accuracy\",\n",
    "    greater_is_better=True,\n",
    "    report_to=\"none\"\n",
    ")\n",
    "\n",
    "trainer = Trainer(\n",
    "    model=model,\n",
    "    args=training_args,\n",
    "    train_dataset=ds['train'],\n",
    "    eval_dataset=ds['test'],\n",
    "    tokenizer=processor,\n",
    "    data_collator=collate_fn,\n",
    "    compute_metrics=compute_metrics\n",
    ")"
   ]
  },
  {
   "cell_type": "code",
   "execution_count": 85,
   "metadata": {},
   "outputs": [
    {
     "data": {
      "application/vnd.jupyter.widget-view+json": {
       "model_id": "a7403664c34d48ee86fe5253e39fcf1d",
       "version_major": 2,
       "version_minor": 0
      },
      "text/plain": [
       "  0%|          | 0/864 [00:00<?, ?it/s]"
      ]
     },
     "metadata": {},
     "output_type": "display_data"
    },
    {
     "name": "stdout",
     "output_type": "stream",
     "text": [
      "{'loss': 0.4518, 'grad_norm': 0.9761220812797546, 'learning_rate': 4.94212962962963e-05, 'epoch': 0.03}\n"
     ]
    },
    {
     "data": {
      "application/vnd.jupyter.widget-view+json": {
       "model_id": "5035234051aa456f9b1e3c90b6028b8a",
       "version_major": 2,
       "version_minor": 0
      },
      "text/plain": [
       "  0%|          | 0/144 [00:00<?, ?it/s]"
      ]
     },
     "metadata": {},
     "output_type": "display_data"
    },
    {
     "name": "stdout",
     "output_type": "stream",
     "text": [
      "{'eval_loss': 0.3402031660079956, 'eval_accuracy': 0.8012152777777778, 'eval_runtime': 86.232, 'eval_samples_per_second': 13.359, 'eval_steps_per_second': 1.67, 'epoch': 0.03}\n",
      "{'loss': 0.2895, 'grad_norm': 2.2736270427703857, 'learning_rate': 4.8842592592592595e-05, 'epoch': 0.07}\n"
     ]
    },
    {
     "data": {
      "application/vnd.jupyter.widget-view+json": {
       "model_id": "578b14b5fd874a4cbfd9396ed0a9e119",
       "version_major": 2,
       "version_minor": 0
      },
      "text/plain": [
       "  0%|          | 0/144 [00:00<?, ?it/s]"
      ]
     },
     "metadata": {},
     "output_type": "display_data"
    },
    {
     "name": "stdout",
     "output_type": "stream",
     "text": [
      "{'eval_loss': 0.2407713234424591, 'eval_accuracy': 0.8871527777777778, 'eval_runtime': 89.7032, 'eval_samples_per_second': 12.842, 'eval_steps_per_second': 1.605, 'epoch': 0.07}\n",
      "{'loss': 0.1526, 'grad_norm': 0.7643176913261414, 'learning_rate': 4.8263888888888895e-05, 'epoch': 0.1}\n"
     ]
    },
    {
     "data": {
      "application/vnd.jupyter.widget-view+json": {
       "model_id": "aab880a58e9c41faa14358bb02ce0330",
       "version_major": 2,
       "version_minor": 0
      },
      "text/plain": [
       "  0%|          | 0/144 [00:00<?, ?it/s]"
      ]
     },
     "metadata": {},
     "output_type": "display_data"
    },
    {
     "name": "stdout",
     "output_type": "stream",
     "text": [
      "{'eval_loss': 0.12461209297180176, 'eval_accuracy': 0.9722222222222222, 'eval_runtime': 83.0902, 'eval_samples_per_second': 13.864, 'eval_steps_per_second': 1.733, 'epoch': 0.1}\n",
      "{'loss': 0.1406, 'grad_norm': 5.452765464782715, 'learning_rate': 4.768518518518519e-05, 'epoch': 0.14}\n"
     ]
    },
    {
     "data": {
      "application/vnd.jupyter.widget-view+json": {
       "model_id": "951172f249a44c448465e1f64ed03fb8",
       "version_major": 2,
       "version_minor": 0
      },
      "text/plain": [
       "  0%|          | 0/144 [00:00<?, ?it/s]"
      ]
     },
     "metadata": {},
     "output_type": "display_data"
    },
    {
     "name": "stdout",
     "output_type": "stream",
     "text": [
      "{'eval_loss': 0.1441803276538849, 'eval_accuracy': 0.9444444444444444, 'eval_runtime': 43.03, 'eval_samples_per_second': 26.772, 'eval_steps_per_second': 3.347, 'epoch': 0.14}\n",
      "{'loss': 0.0901, 'grad_norm': 0.19336548447608948, 'learning_rate': 4.710648148148149e-05, 'epoch': 0.17}\n"
     ]
    },
    {
     "data": {
      "application/vnd.jupyter.widget-view+json": {
       "model_id": "739a899a2e584488b3f9d202a16cb8ad",
       "version_major": 2,
       "version_minor": 0
      },
      "text/plain": [
       "  0%|          | 0/144 [00:00<?, ?it/s]"
      ]
     },
     "metadata": {},
     "output_type": "display_data"
    },
    {
     "name": "stdout",
     "output_type": "stream",
     "text": [
      "{'eval_loss': 0.08282507210969925, 'eval_accuracy': 0.9817708333333334, 'eval_runtime': 44.2907, 'eval_samples_per_second': 26.01, 'eval_steps_per_second': 3.251, 'epoch': 0.17}\n",
      "{'loss': 0.0958, 'grad_norm': 2.5958755016326904, 'learning_rate': 4.652777777777778e-05, 'epoch': 0.21}\n"
     ]
    },
    {
     "data": {
      "application/vnd.jupyter.widget-view+json": {
       "model_id": "c56c0d633fb245e1bdb8c264379dd1c7",
       "version_major": 2,
       "version_minor": 0
      },
      "text/plain": [
       "  0%|          | 0/144 [00:00<?, ?it/s]"
      ]
     },
     "metadata": {},
     "output_type": "display_data"
    },
    {
     "name": "stdout",
     "output_type": "stream",
     "text": [
      "{'eval_loss': 0.09175758063793182, 'eval_accuracy': 0.9774305555555556, 'eval_runtime': 43.3705, 'eval_samples_per_second': 26.562, 'eval_steps_per_second': 3.32, 'epoch': 0.21}\n",
      "{'loss': 0.2788, 'grad_norm': 3.240398406982422, 'learning_rate': 4.594907407407408e-05, 'epoch': 0.24}\n"
     ]
    },
    {
     "data": {
      "application/vnd.jupyter.widget-view+json": {
       "model_id": "922dece51e594d7d9c2e59d3cf518796",
       "version_major": 2,
       "version_minor": 0
      },
      "text/plain": [
       "  0%|          | 0/144 [00:00<?, ?it/s]"
      ]
     },
     "metadata": {},
     "output_type": "display_data"
    },
    {
     "name": "stdout",
     "output_type": "stream",
     "text": [
      "{'eval_loss': 0.10169175267219543, 'eval_accuracy': 0.9635416666666666, 'eval_runtime': 42.6389, 'eval_samples_per_second': 27.018, 'eval_steps_per_second': 3.377, 'epoch': 0.24}\n",
      "{'loss': 0.0883, 'grad_norm': 0.16685526072978973, 'learning_rate': 4.5370370370370374e-05, 'epoch': 0.28}\n"
     ]
    },
    {
     "data": {
      "application/vnd.jupyter.widget-view+json": {
       "model_id": "48e2fba034d44d419bda48a878bbd6b6",
       "version_major": 2,
       "version_minor": 0
      },
      "text/plain": [
       "  0%|          | 0/144 [00:00<?, ?it/s]"
      ]
     },
     "metadata": {},
     "output_type": "display_data"
    },
    {
     "name": "stdout",
     "output_type": "stream",
     "text": [
      "{'eval_loss': 0.06528379768133163, 'eval_accuracy': 0.9817708333333334, 'eval_runtime': 41.1051, 'eval_samples_per_second': 28.026, 'eval_steps_per_second': 3.503, 'epoch': 0.28}\n",
      "{'loss': 0.0991, 'grad_norm': 3.9426655769348145, 'learning_rate': 4.4791666666666673e-05, 'epoch': 0.31}\n"
     ]
    },
    {
     "data": {
      "application/vnd.jupyter.widget-view+json": {
       "model_id": "00fd9bb49f0c4d2eb0b33b855bb58901",
       "version_major": 2,
       "version_minor": 0
      },
      "text/plain": [
       "  0%|          | 0/144 [00:00<?, ?it/s]"
      ]
     },
     "metadata": {},
     "output_type": "display_data"
    },
    {
     "name": "stdout",
     "output_type": "stream",
     "text": [
      "{'eval_loss': 0.08623868972063065, 'eval_accuracy': 0.9730902777777778, 'eval_runtime': 41.8329, 'eval_samples_per_second': 27.538, 'eval_steps_per_second': 3.442, 'epoch': 0.31}\n",
      "{'loss': 0.1133, 'grad_norm': 0.1730802059173584, 'learning_rate': 4.4212962962962966e-05, 'epoch': 0.35}\n"
     ]
    },
    {
     "data": {
      "application/vnd.jupyter.widget-view+json": {
       "model_id": "d3e3be9729dd42219239ad37c6f9a60e",
       "version_major": 2,
       "version_minor": 0
      },
      "text/plain": [
       "  0%|          | 0/144 [00:00<?, ?it/s]"
      ]
     },
     "metadata": {},
     "output_type": "display_data"
    },
    {
     "name": "stdout",
     "output_type": "stream",
     "text": [
      "{'eval_loss': 0.048651501536369324, 'eval_accuracy': 0.9852430555555556, 'eval_runtime': 39.9884, 'eval_samples_per_second': 28.808, 'eval_steps_per_second': 3.601, 'epoch': 0.35}\n",
      "{'loss': 0.0985, 'grad_norm': 2.0847182273864746, 'learning_rate': 4.3634259259259266e-05, 'epoch': 0.38}\n"
     ]
    },
    {
     "data": {
      "application/vnd.jupyter.widget-view+json": {
       "model_id": "50267ec390ee4a1aab1c3828a5fa5643",
       "version_major": 2,
       "version_minor": 0
      },
      "text/plain": [
       "  0%|          | 0/144 [00:00<?, ?it/s]"
      ]
     },
     "metadata": {},
     "output_type": "display_data"
    },
    {
     "name": "stdout",
     "output_type": "stream",
     "text": [
      "{'eval_loss': 0.0744868814945221, 'eval_accuracy': 0.9765625, 'eval_runtime': 43.3684, 'eval_samples_per_second': 26.563, 'eval_steps_per_second': 3.32, 'epoch': 0.38}\n",
      "{'loss': 0.0651, 'grad_norm': 0.1199178695678711, 'learning_rate': 4.305555555555556e-05, 'epoch': 0.42}\n"
     ]
    },
    {
     "data": {
      "application/vnd.jupyter.widget-view+json": {
       "model_id": "3a273e609fc64604b20d1e84c4690799",
       "version_major": 2,
       "version_minor": 0
      },
      "text/plain": [
       "  0%|          | 0/144 [00:00<?, ?it/s]"
      ]
     },
     "metadata": {},
     "output_type": "display_data"
    },
    {
     "name": "stdout",
     "output_type": "stream",
     "text": [
      "{'eval_loss': 0.04724985361099243, 'eval_accuracy': 0.9878472222222222, 'eval_runtime': 42.371, 'eval_samples_per_second': 27.188, 'eval_steps_per_second': 3.399, 'epoch': 0.42}\n",
      "{'loss': 0.0313, 'grad_norm': 0.192734032869339, 'learning_rate': 4.247685185185186e-05, 'epoch': 0.45}\n"
     ]
    },
    {
     "data": {
      "application/vnd.jupyter.widget-view+json": {
       "model_id": "6df5964de280420ca6cfea6f3986506d",
       "version_major": 2,
       "version_minor": 0
      },
      "text/plain": [
       "  0%|          | 0/144 [00:00<?, ?it/s]"
      ]
     },
     "metadata": {},
     "output_type": "display_data"
    },
    {
     "name": "stdout",
     "output_type": "stream",
     "text": [
      "{'eval_loss': 0.04165603220462799, 'eval_accuracy': 0.9887152777777778, 'eval_runtime': 41.0327, 'eval_samples_per_second': 28.075, 'eval_steps_per_second': 3.509, 'epoch': 0.45}\n",
      "{'loss': 0.0774, 'grad_norm': 9.349303245544434, 'learning_rate': 4.1898148148148145e-05, 'epoch': 0.49}\n"
     ]
    },
    {
     "data": {
      "application/vnd.jupyter.widget-view+json": {
       "model_id": "b93cfb92f1fa4d8fb4c2471c8de163b9",
       "version_major": 2,
       "version_minor": 0
      },
      "text/plain": [
       "  0%|          | 0/144 [00:00<?, ?it/s]"
      ]
     },
     "metadata": {},
     "output_type": "display_data"
    },
    {
     "name": "stdout",
     "output_type": "stream",
     "text": [
      "{'eval_loss': 0.03480932116508484, 'eval_accuracy': 0.9913194444444444, 'eval_runtime': 42.5074, 'eval_samples_per_second': 27.101, 'eval_steps_per_second': 3.388, 'epoch': 0.49}\n",
      "{'loss': 0.0374, 'grad_norm': 2.474944829940796, 'learning_rate': 4.1319444444444445e-05, 'epoch': 0.52}\n"
     ]
    },
    {
     "data": {
      "application/vnd.jupyter.widget-view+json": {
       "model_id": "e0f7724b568a422692720f86e8214cd0",
       "version_major": 2,
       "version_minor": 0
      },
      "text/plain": [
       "  0%|          | 0/144 [00:00<?, ?it/s]"
      ]
     },
     "metadata": {},
     "output_type": "display_data"
    },
    {
     "name": "stdout",
     "output_type": "stream",
     "text": [
      "{'eval_loss': 0.040861599147319794, 'eval_accuracy': 0.9904513888888888, 'eval_runtime': 42.5826, 'eval_samples_per_second': 27.053, 'eval_steps_per_second': 3.382, 'epoch': 0.52}\n",
      "{'loss': 0.0534, 'grad_norm': 0.1629900336265564, 'learning_rate': 4.074074074074074e-05, 'epoch': 0.56}\n"
     ]
    },
    {
     "data": {
      "application/vnd.jupyter.widget-view+json": {
       "model_id": "492584b1e0d54dd6a563cacf455c7250",
       "version_major": 2,
       "version_minor": 0
      },
      "text/plain": [
       "  0%|          | 0/144 [00:00<?, ?it/s]"
      ]
     },
     "metadata": {},
     "output_type": "display_data"
    },
    {
     "name": "stdout",
     "output_type": "stream",
     "text": [
      "{'eval_loss': 0.03371104598045349, 'eval_accuracy': 0.9895833333333334, 'eval_runtime': 40.9305, 'eval_samples_per_second': 28.145, 'eval_steps_per_second': 3.518, 'epoch': 0.56}\n",
      "{'loss': 0.0883, 'grad_norm': 1.6173553466796875, 'learning_rate': 4.016203703703704e-05, 'epoch': 0.59}\n"
     ]
    },
    {
     "data": {
      "application/vnd.jupyter.widget-view+json": {
       "model_id": "d5fc2cd203c745dfb1818b186f076afc",
       "version_major": 2,
       "version_minor": 0
      },
      "text/plain": [
       "  0%|          | 0/144 [00:00<?, ?it/s]"
      ]
     },
     "metadata": {},
     "output_type": "display_data"
    },
    {
     "name": "stdout",
     "output_type": "stream",
     "text": [
      "{'eval_loss': 0.0307486392557621, 'eval_accuracy': 0.9895833333333334, 'eval_runtime': 41.5897, 'eval_samples_per_second': 27.699, 'eval_steps_per_second': 3.462, 'epoch': 0.59}\n",
      "{'loss': 0.0168, 'grad_norm': 0.09957311302423477, 'learning_rate': 3.958333333333333e-05, 'epoch': 0.62}\n"
     ]
    },
    {
     "data": {
      "application/vnd.jupyter.widget-view+json": {
       "model_id": "984839b7b4e446de9c5a24a90b668437",
       "version_major": 2,
       "version_minor": 0
      },
      "text/plain": [
       "  0%|          | 0/144 [00:00<?, ?it/s]"
      ]
     },
     "metadata": {},
     "output_type": "display_data"
    },
    {
     "name": "stdout",
     "output_type": "stream",
     "text": [
      "{'eval_loss': 0.037585336714982986, 'eval_accuracy': 0.9895833333333334, 'eval_runtime': 41.265, 'eval_samples_per_second': 27.917, 'eval_steps_per_second': 3.49, 'epoch': 0.62}\n",
      "{'loss': 0.0117, 'grad_norm': 0.08811041712760925, 'learning_rate': 3.900462962962963e-05, 'epoch': 0.66}\n"
     ]
    },
    {
     "data": {
      "application/vnd.jupyter.widget-view+json": {
       "model_id": "e03e449563424fecbeb2bafa04787f51",
       "version_major": 2,
       "version_minor": 0
      },
      "text/plain": [
       "  0%|          | 0/144 [00:00<?, ?it/s]"
      ]
     },
     "metadata": {},
     "output_type": "display_data"
    },
    {
     "name": "stdout",
     "output_type": "stream",
     "text": [
      "{'eval_loss': 0.050885483622550964, 'eval_accuracy': 0.9852430555555556, 'eval_runtime': 39.9183, 'eval_samples_per_second': 28.859, 'eval_steps_per_second': 3.607, 'epoch': 0.66}\n",
      "{'loss': 0.011, 'grad_norm': 0.06184639781713486, 'learning_rate': 3.8425925925925924e-05, 'epoch': 0.69}\n"
     ]
    },
    {
     "data": {
      "application/vnd.jupyter.widget-view+json": {
       "model_id": "8ee990bd2fdb4bb3b190b6f10992abc2",
       "version_major": 2,
       "version_minor": 0
      },
      "text/plain": [
       "  0%|          | 0/144 [00:00<?, ?it/s]"
      ]
     },
     "metadata": {},
     "output_type": "display_data"
    },
    {
     "name": "stdout",
     "output_type": "stream",
     "text": [
      "{'eval_loss': 0.039528738707304, 'eval_accuracy': 0.9895833333333334, 'eval_runtime': 41.8687, 'eval_samples_per_second': 27.515, 'eval_steps_per_second': 3.439, 'epoch': 0.69}\n",
      "{'loss': 0.0458, 'grad_norm': 0.09029455482959747, 'learning_rate': 3.7847222222222224e-05, 'epoch': 0.73}\n"
     ]
    },
    {
     "data": {
      "application/vnd.jupyter.widget-view+json": {
       "model_id": "6c40a20fceb9479480cb9b781959204d",
       "version_major": 2,
       "version_minor": 0
      },
      "text/plain": [
       "  0%|          | 0/144 [00:00<?, ?it/s]"
      ]
     },
     "metadata": {},
     "output_type": "display_data"
    },
    {
     "name": "stdout",
     "output_type": "stream",
     "text": [
      "{'eval_loss': 0.06940127909183502, 'eval_accuracy': 0.9800347222222222, 'eval_runtime': 41.1807, 'eval_samples_per_second': 27.974, 'eval_steps_per_second': 3.497, 'epoch': 0.73}\n",
      "{'loss': 0.077, 'grad_norm': 1.0053964853286743, 'learning_rate': 3.726851851851852e-05, 'epoch': 0.76}\n"
     ]
    },
    {
     "data": {
      "application/vnd.jupyter.widget-view+json": {
       "model_id": "f1e01a505e064cd9a0cc055dfec2228c",
       "version_major": 2,
       "version_minor": 0
      },
      "text/plain": [
       "  0%|          | 0/144 [00:00<?, ?it/s]"
      ]
     },
     "metadata": {},
     "output_type": "display_data"
    },
    {
     "name": "stdout",
     "output_type": "stream",
     "text": [
      "{'eval_loss': 0.0383620448410511, 'eval_accuracy': 0.9895833333333334, 'eval_runtime': 43.4326, 'eval_samples_per_second': 26.524, 'eval_steps_per_second': 3.315, 'epoch': 0.76}\n",
      "{'loss': 0.1143, 'grad_norm': 0.35228249430656433, 'learning_rate': 3.6689814814814816e-05, 'epoch': 0.8}\n"
     ]
    },
    {
     "data": {
      "application/vnd.jupyter.widget-view+json": {
       "model_id": "96d2ec71996a4dedb13f8792c980fc54",
       "version_major": 2,
       "version_minor": 0
      },
      "text/plain": [
       "  0%|          | 0/144 [00:00<?, ?it/s]"
      ]
     },
     "metadata": {},
     "output_type": "display_data"
    },
    {
     "name": "stdout",
     "output_type": "stream",
     "text": [
      "{'eval_loss': 0.027611752972006798, 'eval_accuracy': 0.9930555555555556, 'eval_runtime': 41.4076, 'eval_samples_per_second': 27.821, 'eval_steps_per_second': 3.478, 'epoch': 0.8}\n",
      "{'loss': 0.0189, 'grad_norm': 7.034470081329346, 'learning_rate': 3.611111111111111e-05, 'epoch': 0.83}\n"
     ]
    },
    {
     "data": {
      "application/vnd.jupyter.widget-view+json": {
       "model_id": "23044419747649c5b817bb553a276ead",
       "version_major": 2,
       "version_minor": 0
      },
      "text/plain": [
       "  0%|          | 0/144 [00:00<?, ?it/s]"
      ]
     },
     "metadata": {},
     "output_type": "display_data"
    },
    {
     "name": "stdout",
     "output_type": "stream",
     "text": [
      "{'eval_loss': 0.06573370099067688, 'eval_accuracy': 0.9774305555555556, 'eval_runtime': 42.2918, 'eval_samples_per_second': 27.239, 'eval_steps_per_second': 3.405, 'epoch': 0.83}\n",
      "{'loss': 0.0752, 'grad_norm': 0.06566165387630463, 'learning_rate': 3.553240740740741e-05, 'epoch': 0.87}\n"
     ]
    },
    {
     "data": {
      "application/vnd.jupyter.widget-view+json": {
       "model_id": "27315603f3a6463bb7b26b2784fc2115",
       "version_major": 2,
       "version_minor": 0
      },
      "text/plain": [
       "  0%|          | 0/144 [00:00<?, ?it/s]"
      ]
     },
     "metadata": {},
     "output_type": "display_data"
    },
    {
     "name": "stdout",
     "output_type": "stream",
     "text": [
      "{'eval_loss': 0.030190574005246162, 'eval_accuracy': 0.9904513888888888, 'eval_runtime': 41.136, 'eval_samples_per_second': 28.005, 'eval_steps_per_second': 3.501, 'epoch': 0.87}\n",
      "{'loss': 0.0524, 'grad_norm': 7.775566577911377, 'learning_rate': 3.49537037037037e-05, 'epoch': 0.9}\n"
     ]
    },
    {
     "data": {
      "application/vnd.jupyter.widget-view+json": {
       "model_id": "f77bd08540144b569cc593544958197f",
       "version_major": 2,
       "version_minor": 0
      },
      "text/plain": [
       "  0%|          | 0/144 [00:00<?, ?it/s]"
      ]
     },
     "metadata": {},
     "output_type": "display_data"
    },
    {
     "name": "stdout",
     "output_type": "stream",
     "text": [
      "{'eval_loss': 0.03139081969857216, 'eval_accuracy': 0.9921875, 'eval_runtime': 41.942, 'eval_samples_per_second': 27.466, 'eval_steps_per_second': 3.433, 'epoch': 0.9}\n",
      "{'loss': 0.0488, 'grad_norm': 6.464156627655029, 'learning_rate': 3.4375e-05, 'epoch': 0.94}\n"
     ]
    },
    {
     "data": {
      "application/vnd.jupyter.widget-view+json": {
       "model_id": "e7c826806f584d8292f37e3ffccefd8e",
       "version_major": 2,
       "version_minor": 0
      },
      "text/plain": [
       "  0%|          | 0/144 [00:00<?, ?it/s]"
      ]
     },
     "metadata": {},
     "output_type": "display_data"
    },
    {
     "name": "stdout",
     "output_type": "stream",
     "text": [
      "{'eval_loss': 0.026334941387176514, 'eval_accuracy': 0.9956597222222222, 'eval_runtime': 41.5278, 'eval_samples_per_second': 27.74, 'eval_steps_per_second': 3.468, 'epoch': 0.94}\n",
      "{'loss': 0.0943, 'grad_norm': 0.32471320033073425, 'learning_rate': 3.3796296296296295e-05, 'epoch': 0.97}\n"
     ]
    },
    {
     "data": {
      "application/vnd.jupyter.widget-view+json": {
       "model_id": "1527cbd07abf46f9b6bbed2523ab1a5a",
       "version_major": 2,
       "version_minor": 0
      },
      "text/plain": [
       "  0%|          | 0/144 [00:00<?, ?it/s]"
      ]
     },
     "metadata": {},
     "output_type": "display_data"
    },
    {
     "name": "stdout",
     "output_type": "stream",
     "text": [
      "{'eval_loss': 0.049042537808418274, 'eval_accuracy': 0.9809027777777778, 'eval_runtime': 40.5408, 'eval_samples_per_second': 28.416, 'eval_steps_per_second': 3.552, 'epoch': 0.97}\n",
      "{'loss': 0.0624, 'grad_norm': 0.10303625464439392, 'learning_rate': 3.3217592592592595e-05, 'epoch': 1.01}\n"
     ]
    },
    {
     "data": {
      "application/vnd.jupyter.widget-view+json": {
       "model_id": "0bcd1d6e35c54794ad7ec7ce2bea5a15",
       "version_major": 2,
       "version_minor": 0
      },
      "text/plain": [
       "  0%|          | 0/144 [00:00<?, ?it/s]"
      ]
     },
     "metadata": {},
     "output_type": "display_data"
    },
    {
     "name": "stdout",
     "output_type": "stream",
     "text": [
      "{'eval_loss': 0.0438123494386673, 'eval_accuracy': 0.9895833333333334, 'eval_runtime': 43.0916, 'eval_samples_per_second': 26.734, 'eval_steps_per_second': 3.342, 'epoch': 1.01}\n",
      "{'loss': 0.0165, 'grad_norm': 0.37413454055786133, 'learning_rate': 3.263888888888889e-05, 'epoch': 1.04}\n"
     ]
    },
    {
     "data": {
      "application/vnd.jupyter.widget-view+json": {
       "model_id": "0c7d7f14bb174c49a12c48b11aaa68e5",
       "version_major": 2,
       "version_minor": 0
      },
      "text/plain": [
       "  0%|          | 0/144 [00:00<?, ?it/s]"
      ]
     },
     "metadata": {},
     "output_type": "display_data"
    },
    {
     "name": "stdout",
     "output_type": "stream",
     "text": [
      "{'eval_loss': 0.03435048088431358, 'eval_accuracy': 0.9895833333333334, 'eval_runtime': 41.1764, 'eval_samples_per_second': 27.977, 'eval_steps_per_second': 3.497, 'epoch': 1.04}\n",
      "{'loss': 0.0177, 'grad_norm': 0.11163243651390076, 'learning_rate': 3.206018518518519e-05, 'epoch': 1.08}\n"
     ]
    },
    {
     "data": {
      "application/vnd.jupyter.widget-view+json": {
       "model_id": "50b53011615f4a549e20714a0e9d6497",
       "version_major": 2,
       "version_minor": 0
      },
      "text/plain": [
       "  0%|          | 0/144 [00:00<?, ?it/s]"
      ]
     },
     "metadata": {},
     "output_type": "display_data"
    },
    {
     "name": "stdout",
     "output_type": "stream",
     "text": [
      "{'eval_loss': 0.029102176427841187, 'eval_accuracy': 0.9921875, 'eval_runtime': 42.6162, 'eval_samples_per_second': 27.032, 'eval_steps_per_second': 3.379, 'epoch': 1.08}\n",
      "{'loss': 0.0239, 'grad_norm': 0.06347991526126862, 'learning_rate': 3.148148148148148e-05, 'epoch': 1.11}\n"
     ]
    },
    {
     "data": {
      "application/vnd.jupyter.widget-view+json": {
       "model_id": "2afc71b0580743369c257cc6ea44ac1d",
       "version_major": 2,
       "version_minor": 0
      },
      "text/plain": [
       "  0%|          | 0/144 [00:00<?, ?it/s]"
      ]
     },
     "metadata": {},
     "output_type": "display_data"
    },
    {
     "name": "stdout",
     "output_type": "stream",
     "text": [
      "{'eval_loss': 0.02855781652033329, 'eval_accuracy': 0.9921875, 'eval_runtime': 42.6433, 'eval_samples_per_second': 27.015, 'eval_steps_per_second': 3.377, 'epoch': 1.11}\n",
      "{'loss': 0.0435, 'grad_norm': 0.05664515122771263, 'learning_rate': 3.090277777777778e-05, 'epoch': 1.15}\n"
     ]
    },
    {
     "data": {
      "application/vnd.jupyter.widget-view+json": {
       "model_id": "c3b79394efbe44a18129d16175be8349",
       "version_major": 2,
       "version_minor": 0
      },
      "text/plain": [
       "  0%|          | 0/144 [00:00<?, ?it/s]"
      ]
     },
     "metadata": {},
     "output_type": "display_data"
    },
    {
     "name": "stdout",
     "output_type": "stream",
     "text": [
      "{'eval_loss': 0.03050212375819683, 'eval_accuracy': 0.9913194444444444, 'eval_runtime': 40.1796, 'eval_samples_per_second': 28.671, 'eval_steps_per_second': 3.584, 'epoch': 1.15}\n",
      "{'loss': 0.0116, 'grad_norm': 0.05008790269494057, 'learning_rate': 3.0324074074074077e-05, 'epoch': 1.18}\n"
     ]
    },
    {
     "data": {
      "application/vnd.jupyter.widget-view+json": {
       "model_id": "fffee353484e48e4ae3f82e8f281b567",
       "version_major": 2,
       "version_minor": 0
      },
      "text/plain": [
       "  0%|          | 0/144 [00:00<?, ?it/s]"
      ]
     },
     "metadata": {},
     "output_type": "display_data"
    },
    {
     "name": "stdout",
     "output_type": "stream",
     "text": [
      "{'eval_loss': 0.03456183150410652, 'eval_accuracy': 0.9904513888888888, 'eval_runtime': 42.8483, 'eval_samples_per_second': 26.886, 'eval_steps_per_second': 3.361, 'epoch': 1.18}\n",
      "{'loss': 0.0065, 'grad_norm': 0.06178167834877968, 'learning_rate': 2.9745370370370373e-05, 'epoch': 1.22}\n"
     ]
    },
    {
     "data": {
      "application/vnd.jupyter.widget-view+json": {
       "model_id": "dcd81a6f49a0477589d4bda634b92b34",
       "version_major": 2,
       "version_minor": 0
      },
      "text/plain": [
       "  0%|          | 0/144 [00:00<?, ?it/s]"
      ]
     },
     "metadata": {},
     "output_type": "display_data"
    },
    {
     "name": "stdout",
     "output_type": "stream",
     "text": [
      "{'eval_loss': 0.032364923506975174, 'eval_accuracy': 0.9904513888888888, 'eval_runtime': 42.6746, 'eval_samples_per_second': 26.995, 'eval_steps_per_second': 3.374, 'epoch': 1.22}\n",
      "{'loss': 0.0367, 'grad_norm': 12.993435859680176, 'learning_rate': 2.916666666666667e-05, 'epoch': 1.25}\n"
     ]
    },
    {
     "data": {
      "application/vnd.jupyter.widget-view+json": {
       "model_id": "9d84c5ad769c4c7e9e4150251b02b6f1",
       "version_major": 2,
       "version_minor": 0
      },
      "text/plain": [
       "  0%|          | 0/144 [00:00<?, ?it/s]"
      ]
     },
     "metadata": {},
     "output_type": "display_data"
    },
    {
     "name": "stdout",
     "output_type": "stream",
     "text": [
      "{'eval_loss': 0.05039579048752785, 'eval_accuracy': 0.9835069444444444, 'eval_runtime': 41.209, 'eval_samples_per_second': 27.955, 'eval_steps_per_second': 3.494, 'epoch': 1.25}\n",
      "{'loss': 0.0067, 'grad_norm': 0.04145192354917526, 'learning_rate': 2.8587962962962966e-05, 'epoch': 1.28}\n"
     ]
    },
    {
     "data": {
      "application/vnd.jupyter.widget-view+json": {
       "model_id": "1301f170fb4b437ba756a7102014bda0",
       "version_major": 2,
       "version_minor": 0
      },
      "text/plain": [
       "  0%|          | 0/144 [00:00<?, ?it/s]"
      ]
     },
     "metadata": {},
     "output_type": "display_data"
    },
    {
     "name": "stdout",
     "output_type": "stream",
     "text": [
      "{'eval_loss': 0.035078540444374084, 'eval_accuracy': 0.9895833333333334, 'eval_runtime': 41.9353, 'eval_samples_per_second': 27.471, 'eval_steps_per_second': 3.434, 'epoch': 1.28}\n",
      "{'loss': 0.0301, 'grad_norm': 0.04039226844906807, 'learning_rate': 2.8009259259259263e-05, 'epoch': 1.32}\n"
     ]
    },
    {
     "data": {
      "application/vnd.jupyter.widget-view+json": {
       "model_id": "fb2a0693586047d186ecc8e8bb6e5e58",
       "version_major": 2,
       "version_minor": 0
      },
      "text/plain": [
       "  0%|          | 0/144 [00:00<?, ?it/s]"
      ]
     },
     "metadata": {},
     "output_type": "display_data"
    },
    {
     "name": "stdout",
     "output_type": "stream",
     "text": [
      "{'eval_loss': 0.04108380526304245, 'eval_accuracy': 0.9895833333333334, 'eval_runtime': 41.4154, 'eval_samples_per_second': 27.816, 'eval_steps_per_second': 3.477, 'epoch': 1.32}\n",
      "{'loss': 0.0245, 'grad_norm': 0.21439437568187714, 'learning_rate': 2.743055555555556e-05, 'epoch': 1.35}\n"
     ]
    },
    {
     "data": {
      "application/vnd.jupyter.widget-view+json": {
       "model_id": "2185a6eeaf2d4d9496a929fe6e4dd456",
       "version_major": 2,
       "version_minor": 0
      },
      "text/plain": [
       "  0%|          | 0/144 [00:00<?, ?it/s]"
      ]
     },
     "metadata": {},
     "output_type": "display_data"
    },
    {
     "name": "stdout",
     "output_type": "stream",
     "text": [
      "{'eval_loss': 0.03259219974279404, 'eval_accuracy': 0.9921875, 'eval_runtime': 41.1253, 'eval_samples_per_second': 28.012, 'eval_steps_per_second': 3.501, 'epoch': 1.35}\n",
      "{'loss': 0.0055, 'grad_norm': 0.03972407802939415, 'learning_rate': 2.6851851851851855e-05, 'epoch': 1.39}\n"
     ]
    },
    {
     "data": {
      "application/vnd.jupyter.widget-view+json": {
       "model_id": "eb8f578564c34767b9422be487cfbd9f",
       "version_major": 2,
       "version_minor": 0
      },
      "text/plain": [
       "  0%|          | 0/144 [00:00<?, ?it/s]"
      ]
     },
     "metadata": {},
     "output_type": "display_data"
    },
    {
     "name": "stdout",
     "output_type": "stream",
     "text": [
      "{'eval_loss': 0.02879941090941429, 'eval_accuracy': 0.9921875, 'eval_runtime': 42.3057, 'eval_samples_per_second': 27.23, 'eval_steps_per_second': 3.404, 'epoch': 1.39}\n",
      "{'loss': 0.0059, 'grad_norm': 0.16452594101428986, 'learning_rate': 2.627314814814815e-05, 'epoch': 1.42}\n"
     ]
    },
    {
     "data": {
      "application/vnd.jupyter.widget-view+json": {
       "model_id": "9ba3370baba74ddb94caff42323c63fb",
       "version_major": 2,
       "version_minor": 0
      },
      "text/plain": [
       "  0%|          | 0/144 [00:00<?, ?it/s]"
      ]
     },
     "metadata": {},
     "output_type": "display_data"
    },
    {
     "name": "stdout",
     "output_type": "stream",
     "text": [
      "{'eval_loss': 0.02736344188451767, 'eval_accuracy': 0.9921875, 'eval_runtime': 39.4559, 'eval_samples_per_second': 29.197, 'eval_steps_per_second': 3.65, 'epoch': 1.42}\n",
      "{'loss': 0.0053, 'grad_norm': 0.04301031306385994, 'learning_rate': 2.5694444444444445e-05, 'epoch': 1.46}\n"
     ]
    },
    {
     "data": {
      "application/vnd.jupyter.widget-view+json": {
       "model_id": "b59021eda6874d188f5e087c6bec9436",
       "version_major": 2,
       "version_minor": 0
      },
      "text/plain": [
       "  0%|          | 0/144 [00:00<?, ?it/s]"
      ]
     },
     "metadata": {},
     "output_type": "display_data"
    },
    {
     "name": "stdout",
     "output_type": "stream",
     "text": [
      "{'eval_loss': 0.028202347457408905, 'eval_accuracy': 0.9930555555555556, 'eval_runtime': 43.327, 'eval_samples_per_second': 26.588, 'eval_steps_per_second': 3.324, 'epoch': 1.46}\n",
      "{'loss': 0.0161, 'grad_norm': 0.03813305124640465, 'learning_rate': 2.511574074074074e-05, 'epoch': 1.49}\n"
     ]
    },
    {
     "data": {
      "application/vnd.jupyter.widget-view+json": {
       "model_id": "131c67b9486d4adf9f1bee7535cdc54e",
       "version_major": 2,
       "version_minor": 0
      },
      "text/plain": [
       "  0%|          | 0/144 [00:00<?, ?it/s]"
      ]
     },
     "metadata": {},
     "output_type": "display_data"
    },
    {
     "name": "stdout",
     "output_type": "stream",
     "text": [
      "{'eval_loss': 0.029860682785511017, 'eval_accuracy': 0.9921875, 'eval_runtime': 41.0297, 'eval_samples_per_second': 28.077, 'eval_steps_per_second': 3.51, 'epoch': 1.49}\n",
      "{'loss': 0.0065, 'grad_norm': 0.03586605191230774, 'learning_rate': 2.4537037037037038e-05, 'epoch': 1.53}\n"
     ]
    },
    {
     "data": {
      "application/vnd.jupyter.widget-view+json": {
       "model_id": "b10d76411f504cbbb1aa8e0c402beb05",
       "version_major": 2,
       "version_minor": 0
      },
      "text/plain": [
       "  0%|          | 0/144 [00:00<?, ?it/s]"
      ]
     },
     "metadata": {},
     "output_type": "display_data"
    },
    {
     "name": "stdout",
     "output_type": "stream",
     "text": [
      "{'eval_loss': 0.03111533261835575, 'eval_accuracy': 0.9913194444444444, 'eval_runtime': 42.0455, 'eval_samples_per_second': 27.399, 'eval_steps_per_second': 3.425, 'epoch': 1.53}\n",
      "{'loss': 0.0209, 'grad_norm': 6.252248764038086, 'learning_rate': 2.3958333333333334e-05, 'epoch': 1.56}\n"
     ]
    },
    {
     "data": {
      "application/vnd.jupyter.widget-view+json": {
       "model_id": "2240c9c08cd246069a07a152debccc10",
       "version_major": 2,
       "version_minor": 0
      },
      "text/plain": [
       "  0%|          | 0/144 [00:00<?, ?it/s]"
      ]
     },
     "metadata": {},
     "output_type": "display_data"
    },
    {
     "name": "stdout",
     "output_type": "stream",
     "text": [
      "{'eval_loss': 0.03683473542332649, 'eval_accuracy': 0.9887152777777778, 'eval_runtime': 39.77, 'eval_samples_per_second': 28.967, 'eval_steps_per_second': 3.621, 'epoch': 1.56}\n",
      "{'loss': 0.0265, 'grad_norm': 0.03513942286372185, 'learning_rate': 2.337962962962963e-05, 'epoch': 1.6}\n"
     ]
    },
    {
     "data": {
      "application/vnd.jupyter.widget-view+json": {
       "model_id": "3e24f70a514b41348e3c3eecc6f53f0a",
       "version_major": 2,
       "version_minor": 0
      },
      "text/plain": [
       "  0%|          | 0/144 [00:00<?, ?it/s]"
      ]
     },
     "metadata": {},
     "output_type": "display_data"
    },
    {
     "name": "stdout",
     "output_type": "stream",
     "text": [
      "{'eval_loss': 0.034548819065093994, 'eval_accuracy': 0.9887152777777778, 'eval_runtime': 43.4486, 'eval_samples_per_second': 26.514, 'eval_steps_per_second': 3.314, 'epoch': 1.6}\n",
      "{'loss': 0.0049, 'grad_norm': 0.03586023673415184, 'learning_rate': 2.2800925925925927e-05, 'epoch': 1.63}\n"
     ]
    },
    {
     "data": {
      "application/vnd.jupyter.widget-view+json": {
       "model_id": "73be00eceb39436b9c7a56465fc12d8e",
       "version_major": 2,
       "version_minor": 0
      },
      "text/plain": [
       "  0%|          | 0/144 [00:00<?, ?it/s]"
      ]
     },
     "metadata": {},
     "output_type": "display_data"
    },
    {
     "name": "stdout",
     "output_type": "stream",
     "text": [
      "{'eval_loss': 0.03528197109699249, 'eval_accuracy': 0.9904513888888888, 'eval_runtime': 42.5925, 'eval_samples_per_second': 27.047, 'eval_steps_per_second': 3.381, 'epoch': 1.63}\n",
      "{'loss': 0.0057, 'grad_norm': 0.03579947352409363, 'learning_rate': 2.2222222222222223e-05, 'epoch': 1.67}\n"
     ]
    },
    {
     "data": {
      "application/vnd.jupyter.widget-view+json": {
       "model_id": "0a8640c098f24732890c76aec23f49af",
       "version_major": 2,
       "version_minor": 0
      },
      "text/plain": [
       "  0%|          | 0/144 [00:00<?, ?it/s]"
      ]
     },
     "metadata": {},
     "output_type": "display_data"
    },
    {
     "name": "stdout",
     "output_type": "stream",
     "text": [
      "{'eval_loss': 0.038615599274635315, 'eval_accuracy': 0.9921875, 'eval_runtime': 42.7069, 'eval_samples_per_second': 26.975, 'eval_steps_per_second': 3.372, 'epoch': 1.67}\n",
      "{'loss': 0.0047, 'grad_norm': 0.03090183064341545, 'learning_rate': 2.164351851851852e-05, 'epoch': 1.7}\n"
     ]
    },
    {
     "data": {
      "application/vnd.jupyter.widget-view+json": {
       "model_id": "202bb1eb67274c2fb7feb7a489c2b68e",
       "version_major": 2,
       "version_minor": 0
      },
      "text/plain": [
       "  0%|          | 0/144 [00:00<?, ?it/s]"
      ]
     },
     "metadata": {},
     "output_type": "display_data"
    },
    {
     "name": "stdout",
     "output_type": "stream",
     "text": [
      "{'eval_loss': 0.032972920686006546, 'eval_accuracy': 0.9930555555555556, 'eval_runtime': 40.9165, 'eval_samples_per_second': 28.155, 'eval_steps_per_second': 3.519, 'epoch': 1.7}\n",
      "{'loss': 0.0269, 'grad_norm': 0.03390669822692871, 'learning_rate': 2.1064814814814816e-05, 'epoch': 1.74}\n"
     ]
    },
    {
     "data": {
      "application/vnd.jupyter.widget-view+json": {
       "model_id": "7220df34e6684924b32baf8f1a8fbe10",
       "version_major": 2,
       "version_minor": 0
      },
      "text/plain": [
       "  0%|          | 0/144 [00:00<?, ?it/s]"
      ]
     },
     "metadata": {},
     "output_type": "display_data"
    },
    {
     "name": "stdout",
     "output_type": "stream",
     "text": [
      "{'eval_loss': 0.060344431549310684, 'eval_accuracy': 0.9835069444444444, 'eval_runtime': 43.2289, 'eval_samples_per_second': 26.649, 'eval_steps_per_second': 3.331, 'epoch': 1.74}\n",
      "{'loss': 0.1035, 'grad_norm': 5.133935928344727, 'learning_rate': 2.0486111111111113e-05, 'epoch': 1.77}\n"
     ]
    },
    {
     "data": {
      "application/vnd.jupyter.widget-view+json": {
       "model_id": "451fbd874c164ddca1d66b0a769554b9",
       "version_major": 2,
       "version_minor": 0
      },
      "text/plain": [
       "  0%|          | 0/144 [00:00<?, ?it/s]"
      ]
     },
     "metadata": {},
     "output_type": "display_data"
    },
    {
     "name": "stdout",
     "output_type": "stream",
     "text": [
      "{'eval_loss': 0.033066000789403915, 'eval_accuracy': 0.9921875, 'eval_runtime': 42.2059, 'eval_samples_per_second': 27.295, 'eval_steps_per_second': 3.412, 'epoch': 1.77}\n",
      "{'loss': 0.0046, 'grad_norm': 0.042429935187101364, 'learning_rate': 1.990740740740741e-05, 'epoch': 1.81}\n"
     ]
    },
    {
     "data": {
      "application/vnd.jupyter.widget-view+json": {
       "model_id": "d95e6ff9df9643e4be9eb8e219adbff2",
       "version_major": 2,
       "version_minor": 0
      },
      "text/plain": [
       "  0%|          | 0/144 [00:00<?, ?it/s]"
      ]
     },
     "metadata": {},
     "output_type": "display_data"
    },
    {
     "name": "stdout",
     "output_type": "stream",
     "text": [
      "{'eval_loss': 0.02902667038142681, 'eval_accuracy': 0.9913194444444444, 'eval_runtime': 42.297, 'eval_samples_per_second': 27.236, 'eval_steps_per_second': 3.404, 'epoch': 1.81}\n",
      "{'loss': 0.0201, 'grad_norm': 0.1985769271850586, 'learning_rate': 1.9328703703703705e-05, 'epoch': 1.84}\n"
     ]
    },
    {
     "data": {
      "application/vnd.jupyter.widget-view+json": {
       "model_id": "ea6589887ef04f0fa1917a6225ddf306",
       "version_major": 2,
       "version_minor": 0
      },
      "text/plain": [
       "  0%|          | 0/144 [00:00<?, ?it/s]"
      ]
     },
     "metadata": {},
     "output_type": "display_data"
    },
    {
     "name": "stdout",
     "output_type": "stream",
     "text": [
      "{'eval_loss': 0.03182784467935562, 'eval_accuracy': 0.9904513888888888, 'eval_runtime': 42.6538, 'eval_samples_per_second': 27.008, 'eval_steps_per_second': 3.376, 'epoch': 1.84}\n",
      "{'loss': 0.0564, 'grad_norm': 6.4880852699279785, 'learning_rate': 1.8750000000000002e-05, 'epoch': 1.88}\n"
     ]
    },
    {
     "data": {
      "application/vnd.jupyter.widget-view+json": {
       "model_id": "68ab5466df0a4feb9d49c425dfdebdb0",
       "version_major": 2,
       "version_minor": 0
      },
      "text/plain": [
       "  0%|          | 0/144 [00:00<?, ?it/s]"
      ]
     },
     "metadata": {},
     "output_type": "display_data"
    },
    {
     "name": "stdout",
     "output_type": "stream",
     "text": [
      "{'eval_loss': 0.03001459501683712, 'eval_accuracy': 0.9939236111111112, 'eval_runtime': 42.557, 'eval_samples_per_second': 27.07, 'eval_steps_per_second': 3.384, 'epoch': 1.88}\n",
      "{'loss': 0.0317, 'grad_norm': 0.03362669795751572, 'learning_rate': 1.8171296296296298e-05, 'epoch': 1.91}\n"
     ]
    },
    {
     "data": {
      "application/vnd.jupyter.widget-view+json": {
       "model_id": "50813422c5ab497abf4cf50c2c499c46",
       "version_major": 2,
       "version_minor": 0
      },
      "text/plain": [
       "  0%|          | 0/144 [00:00<?, ?it/s]"
      ]
     },
     "metadata": {},
     "output_type": "display_data"
    },
    {
     "name": "stdout",
     "output_type": "stream",
     "text": [
      "{'eval_loss': 0.037695273756980896, 'eval_accuracy': 0.9887152777777778, 'eval_runtime': 43.2952, 'eval_samples_per_second': 26.608, 'eval_steps_per_second': 3.326, 'epoch': 1.91}\n",
      "{'loss': 0.0482, 'grad_norm': 0.05317641794681549, 'learning_rate': 1.7592592592592595e-05, 'epoch': 1.94}\n"
     ]
    },
    {
     "data": {
      "application/vnd.jupyter.widget-view+json": {
       "model_id": "46ed3ccfcb7a4752859b1df2f2ceea5e",
       "version_major": 2,
       "version_minor": 0
      },
      "text/plain": [
       "  0%|          | 0/144 [00:00<?, ?it/s]"
      ]
     },
     "metadata": {},
     "output_type": "display_data"
    },
    {
     "name": "stdout",
     "output_type": "stream",
     "text": [
      "{'eval_loss': 0.04715777933597565, 'eval_accuracy': 0.984375, 'eval_runtime': 43.7517, 'eval_samples_per_second': 26.33, 'eval_steps_per_second': 3.291, 'epoch': 1.94}\n",
      "{'loss': 0.0083, 'grad_norm': 0.04213929921388626, 'learning_rate': 1.701388888888889e-05, 'epoch': 1.98}\n"
     ]
    },
    {
     "data": {
      "application/vnd.jupyter.widget-view+json": {
       "model_id": "c8fab7ca94de49209dd544546ea31248",
       "version_major": 2,
       "version_minor": 0
      },
      "text/plain": [
       "  0%|          | 0/144 [00:00<?, ?it/s]"
      ]
     },
     "metadata": {},
     "output_type": "display_data"
    },
    {
     "name": "stdout",
     "output_type": "stream",
     "text": [
      "{'eval_loss': 0.026546621695160866, 'eval_accuracy': 0.9913194444444444, 'eval_runtime': 42.3128, 'eval_samples_per_second': 27.226, 'eval_steps_per_second': 3.403, 'epoch': 1.98}\n",
      "{'loss': 0.0382, 'grad_norm': 0.032483622431755066, 'learning_rate': 1.6435185185185187e-05, 'epoch': 2.01}\n"
     ]
    },
    {
     "data": {
      "application/vnd.jupyter.widget-view+json": {
       "model_id": "90cde92d740143e695734f834f39a58d",
       "version_major": 2,
       "version_minor": 0
      },
      "text/plain": [
       "  0%|          | 0/144 [00:00<?, ?it/s]"
      ]
     },
     "metadata": {},
     "output_type": "display_data"
    },
    {
     "name": "stdout",
     "output_type": "stream",
     "text": [
      "{'eval_loss': 0.024998579174280167, 'eval_accuracy': 0.9921875, 'eval_runtime': 42.3842, 'eval_samples_per_second': 27.18, 'eval_steps_per_second': 3.397, 'epoch': 2.01}\n",
      "{'loss': 0.0168, 'grad_norm': 0.02994435280561447, 'learning_rate': 1.5856481481481484e-05, 'epoch': 2.05}\n"
     ]
    },
    {
     "data": {
      "application/vnd.jupyter.widget-view+json": {
       "model_id": "b93a463fbb3b45d78bfeccccaeaf1578",
       "version_major": 2,
       "version_minor": 0
      },
      "text/plain": [
       "  0%|          | 0/144 [00:00<?, ?it/s]"
      ]
     },
     "metadata": {},
     "output_type": "display_data"
    },
    {
     "name": "stdout",
     "output_type": "stream",
     "text": [
      "{'eval_loss': 0.02744544856250286, 'eval_accuracy': 0.9930555555555556, 'eval_runtime': 42.0652, 'eval_samples_per_second': 27.386, 'eval_steps_per_second': 3.423, 'epoch': 2.05}\n",
      "{'loss': 0.0046, 'grad_norm': 0.045989394187927246, 'learning_rate': 1.527777777777778e-05, 'epoch': 2.08}\n"
     ]
    },
    {
     "data": {
      "application/vnd.jupyter.widget-view+json": {
       "model_id": "857e9b5538b947fd84a00135fea7be44",
       "version_major": 2,
       "version_minor": 0
      },
      "text/plain": [
       "  0%|          | 0/144 [00:00<?, ?it/s]"
      ]
     },
     "metadata": {},
     "output_type": "display_data"
    },
    {
     "name": "stdout",
     "output_type": "stream",
     "text": [
      "{'eval_loss': 0.033793721348047256, 'eval_accuracy': 0.9895833333333334, 'eval_runtime': 41.1175, 'eval_samples_per_second': 28.017, 'eval_steps_per_second': 3.502, 'epoch': 2.08}\n",
      "{'loss': 0.0053, 'grad_norm': 0.037199102342128754, 'learning_rate': 1.4699074074074073e-05, 'epoch': 2.12}\n"
     ]
    },
    {
     "data": {
      "application/vnd.jupyter.widget-view+json": {
       "model_id": "4b4171d3f6554cf2bf981dd25dd98bc1",
       "version_major": 2,
       "version_minor": 0
      },
      "text/plain": [
       "  0%|          | 0/144 [00:00<?, ?it/s]"
      ]
     },
     "metadata": {},
     "output_type": "display_data"
    },
    {
     "name": "stdout",
     "output_type": "stream",
     "text": [
      "{'eval_loss': 0.04000992327928543, 'eval_accuracy': 0.9878472222222222, 'eval_runtime': 41.9834, 'eval_samples_per_second': 27.439, 'eval_steps_per_second': 3.43, 'epoch': 2.12}\n",
      "{'loss': 0.0038, 'grad_norm': 0.030377719551324844, 'learning_rate': 1.412037037037037e-05, 'epoch': 2.15}\n"
     ]
    },
    {
     "data": {
      "application/vnd.jupyter.widget-view+json": {
       "model_id": "a3d13a43dcd642388fb6e09518d864e6",
       "version_major": 2,
       "version_minor": 0
      },
      "text/plain": [
       "  0%|          | 0/144 [00:00<?, ?it/s]"
      ]
     },
     "metadata": {},
     "output_type": "display_data"
    },
    {
     "name": "stdout",
     "output_type": "stream",
     "text": [
      "{'eval_loss': 0.042036157101392746, 'eval_accuracy': 0.9878472222222222, 'eval_runtime': 41.7025, 'eval_samples_per_second': 27.624, 'eval_steps_per_second': 3.453, 'epoch': 2.15}\n",
      "{'loss': 0.0038, 'grad_norm': 0.03173423931002617, 'learning_rate': 1.3541666666666666e-05, 'epoch': 2.19}\n"
     ]
    },
    {
     "data": {
      "application/vnd.jupyter.widget-view+json": {
       "model_id": "ce581bbd3ae34b57b008dc946db6b6a1",
       "version_major": 2,
       "version_minor": 0
      },
      "text/plain": [
       "  0%|          | 0/144 [00:00<?, ?it/s]"
      ]
     },
     "metadata": {},
     "output_type": "display_data"
    },
    {
     "name": "stdout",
     "output_type": "stream",
     "text": [
      "{'eval_loss': 0.0421002171933651, 'eval_accuracy': 0.9878472222222222, 'eval_runtime': 39.3896, 'eval_samples_per_second': 29.246, 'eval_steps_per_second': 3.656, 'epoch': 2.19}\n",
      "{'loss': 0.0039, 'grad_norm': 0.03938976302742958, 'learning_rate': 1.2962962962962962e-05, 'epoch': 2.22}\n"
     ]
    },
    {
     "data": {
      "application/vnd.jupyter.widget-view+json": {
       "model_id": "89f9aa0a99be41a2b945b4801c2386f8",
       "version_major": 2,
       "version_minor": 0
      },
      "text/plain": [
       "  0%|          | 0/144 [00:00<?, ?it/s]"
      ]
     },
     "metadata": {},
     "output_type": "display_data"
    },
    {
     "name": "stdout",
     "output_type": "stream",
     "text": [
      "{'eval_loss': 0.04204228147864342, 'eval_accuracy': 0.9887152777777778, 'eval_runtime': 41.0367, 'eval_samples_per_second': 28.072, 'eval_steps_per_second': 3.509, 'epoch': 2.22}\n",
      "{'loss': 0.0053, 'grad_norm': 0.028670627623796463, 'learning_rate': 1.2384259259259259e-05, 'epoch': 2.26}\n"
     ]
    },
    {
     "data": {
      "application/vnd.jupyter.widget-view+json": {
       "model_id": "4c644854e8294dfd9c6a12aaa39447cc",
       "version_major": 2,
       "version_minor": 0
      },
      "text/plain": [
       "  0%|          | 0/144 [00:00<?, ?it/s]"
      ]
     },
     "metadata": {},
     "output_type": "display_data"
    },
    {
     "name": "stdout",
     "output_type": "stream",
     "text": [
      "{'eval_loss': 0.0352412648499012, 'eval_accuracy': 0.9921875, 'eval_runtime': 43.196, 'eval_samples_per_second': 26.669, 'eval_steps_per_second': 3.334, 'epoch': 2.26}\n",
      "{'loss': 0.0035, 'grad_norm': 0.026586705818772316, 'learning_rate': 1.1805555555555555e-05, 'epoch': 2.29}\n"
     ]
    },
    {
     "data": {
      "application/vnd.jupyter.widget-view+json": {
       "model_id": "bbf4fff7783e4534a3b7b8d64206a5ef",
       "version_major": 2,
       "version_minor": 0
      },
      "text/plain": [
       "  0%|          | 0/144 [00:00<?, ?it/s]"
      ]
     },
     "metadata": {},
     "output_type": "display_data"
    },
    {
     "name": "stdout",
     "output_type": "stream",
     "text": [
      "{'eval_loss': 0.03286649286746979, 'eval_accuracy': 0.9913194444444444, 'eval_runtime': 40.8179, 'eval_samples_per_second': 28.223, 'eval_steps_per_second': 3.528, 'epoch': 2.29}\n",
      "{'loss': 0.0035, 'grad_norm': 0.03485596925020218, 'learning_rate': 1.1226851851851852e-05, 'epoch': 2.33}\n"
     ]
    },
    {
     "data": {
      "application/vnd.jupyter.widget-view+json": {
       "model_id": "c32e52864264403a894f1b461d5a8d55",
       "version_major": 2,
       "version_minor": 0
      },
      "text/plain": [
       "  0%|          | 0/144 [00:00<?, ?it/s]"
      ]
     },
     "metadata": {},
     "output_type": "display_data"
    },
    {
     "name": "stdout",
     "output_type": "stream",
     "text": [
      "{'eval_loss': 0.03221860155463219, 'eval_accuracy': 0.9913194444444444, 'eval_runtime': 43.1922, 'eval_samples_per_second': 26.671, 'eval_steps_per_second': 3.334, 'epoch': 2.33}\n",
      "{'loss': 0.0048, 'grad_norm': 0.03873318061232567, 'learning_rate': 1.0648148148148148e-05, 'epoch': 2.36}\n"
     ]
    },
    {
     "data": {
      "application/vnd.jupyter.widget-view+json": {
       "model_id": "aa3d016361c741ccabc342ff98990e26",
       "version_major": 2,
       "version_minor": 0
      },
      "text/plain": [
       "  0%|          | 0/144 [00:00<?, ?it/s]"
      ]
     },
     "metadata": {},
     "output_type": "display_data"
    },
    {
     "name": "stdout",
     "output_type": "stream",
     "text": [
      "{'eval_loss': 0.03107506036758423, 'eval_accuracy': 0.9921875, 'eval_runtime': 40.9278, 'eval_samples_per_second': 28.147, 'eval_steps_per_second': 3.518, 'epoch': 2.36}\n",
      "{'loss': 0.0119, 'grad_norm': 0.04348960518836975, 'learning_rate': 1.0069444444444445e-05, 'epoch': 2.4}\n"
     ]
    },
    {
     "data": {
      "application/vnd.jupyter.widget-view+json": {
       "model_id": "4eceb32159724502989a3e79e65aaaa5",
       "version_major": 2,
       "version_minor": 0
      },
      "text/plain": [
       "  0%|          | 0/144 [00:00<?, ?it/s]"
      ]
     },
     "metadata": {},
     "output_type": "display_data"
    },
    {
     "name": "stdout",
     "output_type": "stream",
     "text": [
      "{'eval_loss': 0.028881318867206573, 'eval_accuracy': 0.9930555555555556, 'eval_runtime': 6982.4989, 'eval_samples_per_second': 0.165, 'eval_steps_per_second': 0.021, 'epoch': 2.4}\n",
      "{'loss': 0.0035, 'grad_norm': 0.027058659121394157, 'learning_rate': 9.490740740740741e-06, 'epoch': 2.43}\n"
     ]
    },
    {
     "data": {
      "application/vnd.jupyter.widget-view+json": {
       "model_id": "aff4acc18b0d477dbe4974a0ba8fcebd",
       "version_major": 2,
       "version_minor": 0
      },
      "text/plain": [
       "  0%|          | 0/144 [00:00<?, ?it/s]"
      ]
     },
     "metadata": {},
     "output_type": "display_data"
    },
    {
     "name": "stdout",
     "output_type": "stream",
     "text": [
      "{'eval_loss': 0.028635522350668907, 'eval_accuracy': 0.9930555555555556, 'eval_runtime': 39.1168, 'eval_samples_per_second': 29.45, 'eval_steps_per_second': 3.681, 'epoch': 2.43}\n",
      "{'loss': 0.004, 'grad_norm': 0.02511575073003769, 'learning_rate': 8.912037037037037e-06, 'epoch': 2.47}\n"
     ]
    },
    {
     "data": {
      "application/vnd.jupyter.widget-view+json": {
       "model_id": "85fcd524868e4b0b870ce52129fc1d58",
       "version_major": 2,
       "version_minor": 0
      },
      "text/plain": [
       "  0%|          | 0/144 [00:00<?, ?it/s]"
      ]
     },
     "metadata": {},
     "output_type": "display_data"
    },
    {
     "name": "stdout",
     "output_type": "stream",
     "text": [
      "{'eval_loss': 0.02478478103876114, 'eval_accuracy': 0.9930555555555556, 'eval_runtime': 38.7073, 'eval_samples_per_second': 29.762, 'eval_steps_per_second': 3.72, 'epoch': 2.47}\n",
      "{'loss': 0.0035, 'grad_norm': 0.027820324525237083, 'learning_rate': 8.333333333333334e-06, 'epoch': 2.5}\n"
     ]
    },
    {
     "data": {
      "application/vnd.jupyter.widget-view+json": {
       "model_id": "d92c8bdaa28e4f1083ae1177fd040ddd",
       "version_major": 2,
       "version_minor": 0
      },
      "text/plain": [
       "  0%|          | 0/144 [00:00<?, ?it/s]"
      ]
     },
     "metadata": {},
     "output_type": "display_data"
    },
    {
     "name": "stdout",
     "output_type": "stream",
     "text": [
      "{'eval_loss': 0.02211960218846798, 'eval_accuracy': 0.9947916666666666, 'eval_runtime': 38.7188, 'eval_samples_per_second': 29.753, 'eval_steps_per_second': 3.719, 'epoch': 2.5}\n",
      "{'loss': 0.0032, 'grad_norm': 0.025755584239959717, 'learning_rate': 7.75462962962963e-06, 'epoch': 2.53}\n"
     ]
    },
    {
     "data": {
      "application/vnd.jupyter.widget-view+json": {
       "model_id": "d44d6d1ddb174911add59e2d66f89b55",
       "version_major": 2,
       "version_minor": 0
      },
      "text/plain": [
       "  0%|          | 0/144 [00:00<?, ?it/s]"
      ]
     },
     "metadata": {},
     "output_type": "display_data"
    },
    {
     "name": "stdout",
     "output_type": "stream",
     "text": [
      "{'eval_loss': 0.021948399022221565, 'eval_accuracy': 0.9930555555555556, 'eval_runtime': 38.7441, 'eval_samples_per_second': 29.734, 'eval_steps_per_second': 3.717, 'epoch': 2.53}\n",
      "{'loss': 0.0033, 'grad_norm': 0.031100640073418617, 'learning_rate': 7.1759259259259266e-06, 'epoch': 2.57}\n"
     ]
    },
    {
     "data": {
      "application/vnd.jupyter.widget-view+json": {
       "model_id": "76942a0e48634038b1a785e5fae47ac3",
       "version_major": 2,
       "version_minor": 0
      },
      "text/plain": [
       "  0%|          | 0/144 [00:00<?, ?it/s]"
      ]
     },
     "metadata": {},
     "output_type": "display_data"
    },
    {
     "name": "stdout",
     "output_type": "stream",
     "text": [
      "{'eval_loss': 0.02203122340142727, 'eval_accuracy': 0.9930555555555556, 'eval_runtime': 38.8371, 'eval_samples_per_second': 29.662, 'eval_steps_per_second': 3.708, 'epoch': 2.57}\n",
      "{'loss': 0.0031, 'grad_norm': 0.026160968467593193, 'learning_rate': 6.597222222222223e-06, 'epoch': 2.6}\n"
     ]
    },
    {
     "data": {
      "application/vnd.jupyter.widget-view+json": {
       "model_id": "f754664a08ad41ed832ad7c081859d84",
       "version_major": 2,
       "version_minor": 0
      },
      "text/plain": [
       "  0%|          | 0/144 [00:00<?, ?it/s]"
      ]
     },
     "metadata": {},
     "output_type": "display_data"
    },
    {
     "name": "stdout",
     "output_type": "stream",
     "text": [
      "{'eval_loss': 0.022169897332787514, 'eval_accuracy': 0.9930555555555556, 'eval_runtime': 38.8317, 'eval_samples_per_second': 29.666, 'eval_steps_per_second': 3.708, 'epoch': 2.6}\n",
      "{'loss': 0.0032, 'grad_norm': 0.026460448279976845, 'learning_rate': 6.0185185185185185e-06, 'epoch': 2.64}\n"
     ]
    },
    {
     "data": {
      "application/vnd.jupyter.widget-view+json": {
       "model_id": "bb9bb95115c54e1593fb6a4a25394de9",
       "version_major": 2,
       "version_minor": 0
      },
      "text/plain": [
       "  0%|          | 0/144 [00:00<?, ?it/s]"
      ]
     },
     "metadata": {},
     "output_type": "display_data"
    },
    {
     "name": "stdout",
     "output_type": "stream",
     "text": [
      "{'eval_loss': 0.022552574053406715, 'eval_accuracy': 0.9930555555555556, 'eval_runtime': 40.5097, 'eval_samples_per_second': 28.438, 'eval_steps_per_second': 3.555, 'epoch': 2.64}\n",
      "{'loss': 0.0032, 'grad_norm': 0.025686468929052353, 'learning_rate': 5.439814814814815e-06, 'epoch': 2.67}\n"
     ]
    },
    {
     "data": {
      "application/vnd.jupyter.widget-view+json": {
       "model_id": "d3a9f7126541451b81bc6450bd94357d",
       "version_major": 2,
       "version_minor": 0
      },
      "text/plain": [
       "  0%|          | 0/144 [00:00<?, ?it/s]"
      ]
     },
     "metadata": {},
     "output_type": "display_data"
    },
    {
     "name": "stdout",
     "output_type": "stream",
     "text": [
      "{'eval_loss': 0.02270754799246788, 'eval_accuracy': 0.9930555555555556, 'eval_runtime': 39.0816, 'eval_samples_per_second': 29.477, 'eval_steps_per_second': 3.685, 'epoch': 2.67}\n",
      "{'loss': 0.0031, 'grad_norm': 0.025646982714533806, 'learning_rate': 4.861111111111111e-06, 'epoch': 2.71}\n"
     ]
    },
    {
     "data": {
      "application/vnd.jupyter.widget-view+json": {
       "model_id": "5d32205c527847f08d9b2c8ac542ef8c",
       "version_major": 2,
       "version_minor": 0
      },
      "text/plain": [
       "  0%|          | 0/144 [00:00<?, ?it/s]"
      ]
     },
     "metadata": {},
     "output_type": "display_data"
    },
    {
     "name": "stdout",
     "output_type": "stream",
     "text": [
      "{'eval_loss': 0.022809602320194244, 'eval_accuracy': 0.9930555555555556, 'eval_runtime': 39.1597, 'eval_samples_per_second': 29.418, 'eval_steps_per_second': 3.677, 'epoch': 2.71}\n",
      "{'loss': 0.008, 'grad_norm': 0.02547714300453663, 'learning_rate': 4.282407407407408e-06, 'epoch': 2.74}\n"
     ]
    },
    {
     "data": {
      "application/vnd.jupyter.widget-view+json": {
       "model_id": "16158adccd1340339dfe6f6cebd095a2",
       "version_major": 2,
       "version_minor": 0
      },
      "text/plain": [
       "  0%|          | 0/144 [00:00<?, ?it/s]"
      ]
     },
     "metadata": {},
     "output_type": "display_data"
    },
    {
     "name": "stdout",
     "output_type": "stream",
     "text": [
      "{'eval_loss': 0.02510293386876583, 'eval_accuracy': 0.9930555555555556, 'eval_runtime': 39.1622, 'eval_samples_per_second': 29.416, 'eval_steps_per_second': 3.677, 'epoch': 2.74}\n",
      "{'loss': 0.0031, 'grad_norm': 0.024022487923502922, 'learning_rate': 3.7037037037037037e-06, 'epoch': 2.78}\n"
     ]
    },
    {
     "data": {
      "application/vnd.jupyter.widget-view+json": {
       "model_id": "2c10a9605c0a4afa87fcd73ba0b77c55",
       "version_major": 2,
       "version_minor": 0
      },
      "text/plain": [
       "  0%|          | 0/144 [00:00<?, ?it/s]"
      ]
     },
     "metadata": {},
     "output_type": "display_data"
    },
    {
     "name": "stdout",
     "output_type": "stream",
     "text": [
      "{'eval_loss': 0.02620147354900837, 'eval_accuracy': 0.9930555555555556, 'eval_runtime': 39.117, 'eval_samples_per_second': 29.45, 'eval_steps_per_second': 3.681, 'epoch': 2.78}\n",
      "{'loss': 0.0031, 'grad_norm': 0.024733655154705048, 'learning_rate': 3.125e-06, 'epoch': 2.81}\n"
     ]
    },
    {
     "data": {
      "application/vnd.jupyter.widget-view+json": {
       "model_id": "892a38e2043047928db933e42dfda13c",
       "version_major": 2,
       "version_minor": 0
      },
      "text/plain": [
       "  0%|          | 0/144 [00:00<?, ?it/s]"
      ]
     },
     "metadata": {},
     "output_type": "display_data"
    },
    {
     "name": "stdout",
     "output_type": "stream",
     "text": [
      "{'eval_loss': 0.026592271402478218, 'eval_accuracy': 0.9930555555555556, 'eval_runtime': 39.1139, 'eval_samples_per_second': 29.452, 'eval_steps_per_second': 3.682, 'epoch': 2.81}\n",
      "{'loss': 0.0043, 'grad_norm': 0.03886941820383072, 'learning_rate': 2.546296296296296e-06, 'epoch': 2.85}\n"
     ]
    },
    {
     "data": {
      "application/vnd.jupyter.widget-view+json": {
       "model_id": "b9b894ab6f814f8c9fedece635da66de",
       "version_major": 2,
       "version_minor": 0
      },
      "text/plain": [
       "  0%|          | 0/144 [00:00<?, ?it/s]"
      ]
     },
     "metadata": {},
     "output_type": "display_data"
    },
    {
     "name": "stdout",
     "output_type": "stream",
     "text": [
      "{'eval_loss': 0.025932209566235542, 'eval_accuracy': 0.9930555555555556, 'eval_runtime': 41.6272, 'eval_samples_per_second': 27.674, 'eval_steps_per_second': 3.459, 'epoch': 2.85}\n",
      "{'loss': 0.0032, 'grad_norm': 0.35465630888938904, 'learning_rate': 1.9675925925925925e-06, 'epoch': 2.88}\n"
     ]
    },
    {
     "data": {
      "application/vnd.jupyter.widget-view+json": {
       "model_id": "0ba38bdfcede4e95bb214b266872d853",
       "version_major": 2,
       "version_minor": 0
      },
      "text/plain": [
       "  0%|          | 0/144 [00:00<?, ?it/s]"
      ]
     },
     "metadata": {},
     "output_type": "display_data"
    },
    {
     "name": "stdout",
     "output_type": "stream",
     "text": [
      "{'eval_loss': 0.02577088586986065, 'eval_accuracy': 0.9921875, 'eval_runtime': 40.5866, 'eval_samples_per_second': 28.384, 'eval_steps_per_second': 3.548, 'epoch': 2.88}\n",
      "{'loss': 0.0042, 'grad_norm': 0.024415601044893265, 'learning_rate': 1.388888888888889e-06, 'epoch': 2.92}\n"
     ]
    },
    {
     "data": {
      "application/vnd.jupyter.widget-view+json": {
       "model_id": "9e05f13aaaba4a368bcf67c02fb05e14",
       "version_major": 2,
       "version_minor": 0
      },
      "text/plain": [
       "  0%|          | 0/144 [00:00<?, ?it/s]"
      ]
     },
     "metadata": {},
     "output_type": "display_data"
    },
    {
     "name": "stdout",
     "output_type": "stream",
     "text": [
      "{'eval_loss': 0.026823166757822037, 'eval_accuracy': 0.9930555555555556, 'eval_runtime': 41.656, 'eval_samples_per_second': 27.655, 'eval_steps_per_second': 3.457, 'epoch': 2.92}\n",
      "{'loss': 0.0032, 'grad_norm': 0.023707451298832893, 'learning_rate': 8.101851851851852e-07, 'epoch': 2.95}\n"
     ]
    },
    {
     "data": {
      "application/vnd.jupyter.widget-view+json": {
       "model_id": "ca7bee8ac04a4320b19a0d3bd2de4298",
       "version_major": 2,
       "version_minor": 0
      },
      "text/plain": [
       "  0%|          | 0/144 [00:00<?, ?it/s]"
      ]
     },
     "metadata": {},
     "output_type": "display_data"
    },
    {
     "name": "stdout",
     "output_type": "stream",
     "text": [
      "{'eval_loss': 0.027684058994054794, 'eval_accuracy': 0.9930555555555556, 'eval_runtime': 40.7364, 'eval_samples_per_second': 28.279, 'eval_steps_per_second': 3.535, 'epoch': 2.95}\n",
      "{'loss': 0.003, 'grad_norm': 0.02588501386344433, 'learning_rate': 2.3148148148148148e-07, 'epoch': 2.99}\n"
     ]
    },
    {
     "data": {
      "application/vnd.jupyter.widget-view+json": {
       "model_id": "84559eae29c44370b6bbe8379e84a681",
       "version_major": 2,
       "version_minor": 0
      },
      "text/plain": [
       "  0%|          | 0/144 [00:00<?, ?it/s]"
      ]
     },
     "metadata": {},
     "output_type": "display_data"
    },
    {
     "name": "stdout",
     "output_type": "stream",
     "text": [
      "{'eval_loss': 0.027843892574310303, 'eval_accuracy': 0.9930555555555556, 'eval_runtime': 41.3565, 'eval_samples_per_second': 27.855, 'eval_steps_per_second': 3.482, 'epoch': 2.99}\n",
      "{'train_runtime': 11539.1431, 'train_samples_per_second': 1.197, 'train_steps_per_second': 0.075, 'train_loss': 0.042453370087228166, 'epoch': 3.0}\n",
      "***** train metrics *****\n",
      "  epoch                    =         3.0\n",
      "  total_flos               = 997245602GF\n",
      "  train_loss               =      0.0425\n",
      "  train_runtime            =  3:12:19.14\n",
      "  train_samples_per_second =       1.197\n",
      "  train_steps_per_second   =       0.075\n"
     ]
    }
   ],
   "source": [
    "train_results = trainer.train()\n",
    "trainer.save_model()\n",
    "trainer.log_metrics(\"train\", train_results.metrics)\n",
    "trainer.save_metrics(\"train\", train_results.metrics)\n",
    "trainer.save_state()"
   ]
  },
  {
   "cell_type": "code",
   "execution_count": 86,
   "metadata": {},
   "outputs": [
    {
     "data": {
      "application/vnd.jupyter.widget-view+json": {
       "model_id": "4fdd03b6b63e4563a7d6febfd736a073",
       "version_major": 2,
       "version_minor": 0
      },
      "text/plain": [
       "  0%|          | 0/144 [00:00<?, ?it/s]"
      ]
     },
     "metadata": {},
     "output_type": "display_data"
    },
    {
     "name": "stdout",
     "output_type": "stream",
     "text": [
      "***** test metrics *****\n",
      "  epoch                   =        3.0\n",
      "  eval_accuracy           =     0.9835\n",
      "  eval_loss               =     0.0603\n",
      "  eval_runtime            = 0:00:42.28\n",
      "  eval_samples_per_second =     27.245\n",
      "  eval_steps_per_second   =      3.406\n"
     ]
    }
   ],
   "source": [
    "metrics = trainer.evaluate(ds['test'])\n",
    "trainer.log_metrics(\"test\", metrics)\n",
    "trainer.save_metrics(\"test\", metrics)"
   ]
  },
  {
   "cell_type": "markdown",
   "metadata": {},
   "source": [
    "## References\n",
    "\n",
    "<a id=\"1\">1. Dosovitskiy, A., Beyer, L., Kolesnikov, A., Weissenborn, D., Zhai, X., Unterthiner, T., Dehghani, M., Minderer, M., Heigold, G., Gelly, S., Uszkoreit, J., & Houlsby, N. (2020). An Image is Worth 16x16 Words: Transformers for Image Recognition at Scale. ArXiv, abs/2010.11929.</a>\n"
   ]
  }
 ],
 "metadata": {
  "kernelspec": {
   "display_name": "Python 3",
   "language": "python",
   "name": "python3"
  },
  "language_info": {
   "codemirror_mode": {
    "name": "ipython",
    "version": 3
   },
   "file_extension": ".py",
   "mimetype": "text/x-python",
   "name": "python",
   "nbconvert_exporter": "python",
   "pygments_lexer": "ipython3",
   "version": "3.11.9"
  }
 },
 "nbformat": 4,
 "nbformat_minor": 2
}
