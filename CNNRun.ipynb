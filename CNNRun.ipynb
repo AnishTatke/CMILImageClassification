{
 "cells": [
  {
   "cell_type": "code",
   "execution_count": 1,
   "metadata": {},
   "outputs": [],
   "source": [
    "import torch\n",
    "import torch.nn as nn\n",
    "import torch.nn.functional as F\n",
    "import torch.optim as optim\n",
    "import numpy as np\n",
    "import warnings\n",
    "warnings.filterwarnings(\"ignore\")\n",
    "\n",
    "import matplotlib.pyplot as plt\n",
    "import pandas as pd\n",
    "\n",
    "from torch.utils.data import DataLoader, Dataset, WeightedRandomSampler\n",
    "from torchvision.transforms import v2\n",
    "from PIL import Image\n",
    "from torchsummary import summary\n",
    "from sklearn.metrics import confusion_matrix, classification_report"
   ]
  },
  {
   "cell_type": "code",
   "execution_count": 2,
   "metadata": {},
   "outputs": [
    {
     "data": {
      "text/html": [
       "<div>\n",
       "<style scoped>\n",
       "    .dataframe tbody tr th:only-of-type {\n",
       "        vertical-align: middle;\n",
       "    }\n",
       "\n",
       "    .dataframe tbody tr th {\n",
       "        vertical-align: top;\n",
       "    }\n",
       "\n",
       "    .dataframe thead th {\n",
       "        text-align: right;\n",
       "    }\n",
       "</style>\n",
       "<table border=\"1\" class=\"dataframe\">\n",
       "  <thead>\n",
       "    <tr style=\"text-align: right;\">\n",
       "      <th></th>\n",
       "      <th>name</th>\n",
       "      <th>ground truth</th>\n",
       "      <th>path</th>\n",
       "    </tr>\n",
       "  </thead>\n",
       "  <tbody>\n",
       "    <tr>\n",
       "      <th>0</th>\n",
       "      <td>S-2006-005094_PAS_1of2_64552732435c92704a3d37c...</td>\n",
       "      <td>0</td>\n",
       "      <td>public/non_globally_sclerotic_glomeruli/S-2006...</td>\n",
       "    </tr>\n",
       "    <tr>\n",
       "      <th>1</th>\n",
       "      <td>S-2006-005094_PAS_1of2_64552732435c92704a3d37c...</td>\n",
       "      <td>0</td>\n",
       "      <td>public/non_globally_sclerotic_glomeruli/S-2006...</td>\n",
       "    </tr>\n",
       "    <tr>\n",
       "      <th>2</th>\n",
       "      <td>S-2006-005094_PAS_1of2_64552732435c92704a3d37c...</td>\n",
       "      <td>0</td>\n",
       "      <td>public/non_globally_sclerotic_glomeruli/S-2006...</td>\n",
       "    </tr>\n",
       "    <tr>\n",
       "      <th>3</th>\n",
       "      <td>S-2006-005094_PAS_1of2_64552732435c92704a3d37c...</td>\n",
       "      <td>0</td>\n",
       "      <td>public/non_globally_sclerotic_glomeruli/S-2006...</td>\n",
       "    </tr>\n",
       "    <tr>\n",
       "      <th>4</th>\n",
       "      <td>S-2006-005094_PAS_1of2_64552732435c92704a3d37d...</td>\n",
       "      <td>0</td>\n",
       "      <td>public/non_globally_sclerotic_glomeruli/S-2006...</td>\n",
       "    </tr>\n",
       "  </tbody>\n",
       "</table>\n",
       "</div>"
      ],
      "text/plain": [
       "                                                name  ground truth  \\\n",
       "0  S-2006-005094_PAS_1of2_64552732435c92704a3d37c...             0   \n",
       "1  S-2006-005094_PAS_1of2_64552732435c92704a3d37c...             0   \n",
       "2  S-2006-005094_PAS_1of2_64552732435c92704a3d37c...             0   \n",
       "3  S-2006-005094_PAS_1of2_64552732435c92704a3d37c...             0   \n",
       "4  S-2006-005094_PAS_1of2_64552732435c92704a3d37d...             0   \n",
       "\n",
       "                                                path  \n",
       "0  public/non_globally_sclerotic_glomeruli/S-2006...  \n",
       "1  public/non_globally_sclerotic_glomeruli/S-2006...  \n",
       "2  public/non_globally_sclerotic_glomeruli/S-2006...  \n",
       "3  public/non_globally_sclerotic_glomeruli/S-2006...  \n",
       "4  public/non_globally_sclerotic_glomeruli/S-2006...  "
      ]
     },
     "execution_count": 2,
     "metadata": {},
     "output_type": "execute_result"
    }
   ],
   "source": [
    "df = pd.read_csv('public/public.csv')\n",
    "folderClasses = ['non_globally_sclerotic_glomeruli', 'globally_sclerotic_glomeruli']\n",
    "df['path'] = df.apply(lambda x: f\"public/{folderClasses[x['ground truth']]}/{x['name']}\", axis=1)\n",
    "df.head()"
   ]
  },
  {
   "cell_type": "code",
   "execution_count": 3,
   "metadata": {},
   "outputs": [],
   "source": [
    "def train_validate_test_split(df, split = 0.8, seed=None):\n",
    "    np.random.seed(seed)\n",
    "    perm = np.random.permutation(df.index)\n",
    "    m = len(df.index)\n",
    "    split_end = int(split * m)\n",
    "    train = df.iloc[perm[:split_end]]\n",
    "    validate = df.iloc[perm[split_end:]]\n",
    "    train.reset_index(inplace=True)\n",
    "    train.drop('index', axis=1, inplace=True)\n",
    "    validate.reset_index(inplace=True)\n",
    "    validate.drop('index', axis=1, inplace=True)\n",
    "    return train, validate\n",
    "\n",
    "train, validate = train_validate_test_split(df, seed=42)"
   ]
  },
  {
   "cell_type": "code",
   "execution_count": 4,
   "metadata": {},
   "outputs": [
    {
     "name": "stdout",
     "output_type": "stream",
     "text": [
      "Train size: 4606\n",
      "Validate size: 1152\n"
     ]
    }
   ],
   "source": [
    "print(f\"Train size: {len(train)}\")\n",
    "print(f\"Validate size: {len(validate)}\")"
   ]
  },
  {
   "cell_type": "code",
   "execution_count": 5,
   "metadata": {},
   "outputs": [],
   "source": [
    "sizes = None\n",
    "for path in df['path']:\n",
    "    img = np.asarray(plt.imread(path))\n",
    "    if sizes is None:\n",
    "        sizes = [img.shape]\n",
    "    else:\n",
    "        sizes.append(img.shape)\n",
    "\n",
    "widths = [w for h, w, c in sizes]\n",
    "heights = [h for h, w, c in sizes]\n",
    "\n",
    "mean_width = round(np.mean(widths))\n",
    "mean_height = round(np.mean(heights))"
   ]
  },
  {
   "cell_type": "code",
   "execution_count": 6,
   "metadata": {},
   "outputs": [],
   "source": [
    "class GlomeruliDataset(Dataset):\n",
    "    folderClasses = ['non_globally_sclerotic_glomeruli', 'globally_sclerotic_glomeruli']\n",
    "    def __init__(self, df, transform=None):\n",
    "        self.df = df\n",
    "        self.labels = df['ground truth'].to_numpy().astype(np.int32)\n",
    "        self.transform = transform\n",
    "\n",
    "    def __len__(self):\n",
    "        return len(self.df)\n",
    "\n",
    "    def __getitem__(self, idx):\n",
    "        label = self.labels[idx]\n",
    "        path = self.df.iloc[idx, 2]\n",
    "        image = np.asarray(Image.open(path))\n",
    "\n",
    "        if self.transform:\n",
    "            image = self.transform(image)\n",
    "\n",
    "        return image, label"
   ]
  },
  {
   "cell_type": "code",
   "execution_count": 7,
   "metadata": {},
   "outputs": [],
   "source": [
    "transforms = v2.Compose([\n",
    "    v2.ToTensor(),\n",
    "    v2.Resize((mean_width, mean_height)),\n",
    "    v2.Normalize(mean = [0.5 for _ in range(4)], std = [0.5 for _ in range(4)]),\n",
    "    v2.ToTensor(),\n",
    "])\n",
    "\n",
    "train_dataset = GlomeruliDataset(train, transform=transforms)\n",
    "validate_dataset = GlomeruliDataset(validate, transform=transforms)"
   ]
  },
  {
   "cell_type": "code",
   "execution_count": 8,
   "metadata": {},
   "outputs": [
    {
     "name": "stdout",
     "output_type": "stream",
     "text": [
      "cuda\n"
     ]
    }
   ],
   "source": [
    "device = torch.device('cuda' if torch.cuda.is_available() else 'cpu')\n",
    "BATCH_SIZE = 32\n",
    "LEARNING_RATE = 1e-3\n",
    "NUM_EPOCHS = 5\n",
    "print(device)"
   ]
  },
  {
   "cell_type": "code",
   "execution_count": 9,
   "metadata": {},
   "outputs": [],
   "source": [
    "labels = train_dataset.labels\n",
    "class_sample_count = np.array([len(np.where(labels == t)[0]) for t in np.unique(labels)])\n",
    "class_weight = 100. / class_sample_count\n",
    "weights = np.array([class_weight[t] for t in labels])\n",
    "weights = torch.from_numpy(weights)"
   ]
  },
  {
   "cell_type": "code",
   "execution_count": 10,
   "metadata": {},
   "outputs": [
    {
     "data": {
      "text/plain": [
       "array([0.02663116, 0.11750881])"
      ]
     },
     "execution_count": 10,
     "metadata": {},
     "output_type": "execute_result"
    }
   ],
   "source": [
    "class_weight"
   ]
  },
  {
   "cell_type": "code",
   "execution_count": 11,
   "metadata": {},
   "outputs": [],
   "source": [
    "sampler = WeightedRandomSampler(weights=weights, num_samples=len(train_dataset), replacement=True)\n",
    "train_loader = DataLoader(train_dataset,batch_size=BATCH_SIZE, sampler=sampler, shuffle=False)\n",
    "validate_loader = DataLoader(validate_dataset, batch_size=BATCH_SIZE, shuffle=False)"
   ]
  },
  {
   "cell_type": "code",
   "execution_count": 12,
   "metadata": {},
   "outputs": [
    {
     "name": "stdout",
     "output_type": "stream",
     "text": [
      "torch.Size([32, 4, 711, 733])\n"
     ]
    }
   ],
   "source": [
    "images, labels = next(iter(validate_loader))\n",
    "print(images.shape)"
   ]
  },
  {
   "cell_type": "code",
   "execution_count": 13,
   "metadata": {},
   "outputs": [],
   "source": [
    "class SimpleCNN(nn.Module):\n",
    "    def __init__(self):\n",
    "        super(SimpleCNN, self).__init__()\n",
    "        self.conv1 = nn.Sequential(\n",
    "            nn.Conv2d(4, 16, kernel_size=5, stride=2),\n",
    "            nn.BatchNorm2d(16),\n",
    "            nn.ReLU(),\n",
    "            nn.AvgPool2d(2, 2),\n",
    "        )\n",
    "        self.conv2 = nn.Sequential(\n",
    "            nn.Conv2d(16, 32, kernel_size=3, stride=2),\n",
    "            nn.BatchNorm2d(32),\n",
    "            nn.ReLU(),\n",
    "            nn.AvgPool2d(2, 2),\n",
    "        )\n",
    "\n",
    "        self.conv3 = nn.Sequential(\n",
    "            nn.Conv2d(32, 32, kernel_size=3),\n",
    "            nn.BatchNorm2d(32),\n",
    "            nn.ReLU(),\n",
    "            nn.AvgPool2d(2, 2),\n",
    "        )\n",
    "\n",
    "        self.flatten = nn.Flatten()\n",
    "\n",
    "        self.fc1 = nn.Sequential(\n",
    "            nn.Linear(32 * 21 * 21, 256),\n",
    "            nn.BatchNorm1d(256),\n",
    "            nn.ReLU(),\n",
    "        )\n",
    "\n",
    "        self.fc2 = nn.Sequential(\n",
    "            nn.Linear(256, 64),\n",
    "            nn.BatchNorm1d(64),\n",
    "            nn.ReLU(),\n",
    "        )\n",
    "\n",
    "        self.fc3 = nn.Linear(64, 1)\n",
    "\n",
    "    def forward(self, x):\n",
    "        x = self.conv1(x)\n",
    "        x = self.conv2(x)\n",
    "        x = self.conv3(x)\n",
    "        x = self.flatten(x)\n",
    "        x = self.fc1(x)\n",
    "        x = self.fc2(x)\n",
    "        x = self.fc3(x)\n",
    "        return x"
   ]
  },
  {
   "cell_type": "code",
   "execution_count": 14,
   "metadata": {},
   "outputs": [
    {
     "name": "stdout",
     "output_type": "stream",
     "text": [
      "----------------------------------------------------------------\n",
      "        Layer (type)               Output Shape         Param #\n",
      "================================================================\n",
      "            Conv2d-1         [32, 16, 354, 365]           1,616\n",
      "       BatchNorm2d-2         [32, 16, 354, 365]              32\n",
      "              ReLU-3         [32, 16, 354, 365]               0\n",
      "         AvgPool2d-4         [32, 16, 177, 182]               0\n",
      "            Conv2d-5           [32, 32, 88, 90]           4,640\n",
      "       BatchNorm2d-6           [32, 32, 88, 90]              64\n",
      "              ReLU-7           [32, 32, 88, 90]               0\n",
      "         AvgPool2d-8           [32, 32, 44, 45]               0\n",
      "            Conv2d-9           [32, 32, 42, 43]           9,248\n",
      "      BatchNorm2d-10           [32, 32, 42, 43]              64\n",
      "             ReLU-11           [32, 32, 42, 43]               0\n",
      "        AvgPool2d-12           [32, 32, 21, 21]               0\n",
      "          Flatten-13                [32, 14112]               0\n",
      "           Linear-14                  [32, 256]       3,612,928\n",
      "      BatchNorm1d-15                  [32, 256]             512\n",
      "             ReLU-16                  [32, 256]               0\n",
      "           Linear-17                   [32, 64]          16,448\n",
      "      BatchNorm1d-18                   [32, 64]             128\n",
      "             ReLU-19                   [32, 64]               0\n",
      "           Linear-20                    [32, 1]              65\n",
      "================================================================\n",
      "Total params: 3,645,745\n",
      "Trainable params: 3,645,745\n",
      "Non-trainable params: 0\n",
      "----------------------------------------------------------------\n",
      "Input size (MB): 254.47\n",
      "Forward/backward pass size (MB): 1890.56\n",
      "Params size (MB): 13.91\n",
      "Estimated Total Size (MB): 2158.94\n",
      "----------------------------------------------------------------\n"
     ]
    }
   ],
   "source": [
    "model = SimpleCNN().to(device)\n",
    "summary(model, (4, mean_width, mean_height), batch_size=BATCH_SIZE)"
   ]
  },
  {
   "cell_type": "code",
   "execution_count": 15,
   "metadata": {},
   "outputs": [],
   "source": [
    "criterion = nn.BCEWithLogitsLoss(pos_weight=torch.tensor(class_weight[1], dtype=torch.float64))\n",
    "optimizer = optim.Adam(model.parameters(), lr=LEARNING_RATE)"
   ]
  },
  {
   "cell_type": "code",
   "execution_count": 16,
   "metadata": {},
   "outputs": [],
   "source": [
    "def train(epoch, model, loader, criterion, optimizer):\n",
    "    model.train()\n",
    "    running_loss = 0.0\n",
    "    correct = 0\n",
    "    total = 0\n",
    "\n",
    "    for i, (images, labels) in enumerate(loader):\n",
    "        images, labels = images.float().to(device), labels.float().to(device)\n",
    "        \n",
    "        outputs = model(images)\n",
    "        outputs = outputs.squeeze()\n",
    "        loss = criterion(outputs, labels)\n",
    "        \n",
    "        optimizer.zero_grad()\n",
    "        loss.backward()\n",
    "        optimizer.step()\n",
    "\n",
    "        running_loss += loss.item()\n",
    "        predicted = torch.round(F.sigmoid(outputs))\n",
    "        total += labels.size(0)\n",
    "        correct += (predicted == labels).sum().item()\n",
    "\n",
    "    running_loss /= len(loader)\n",
    "    accuracy = correct / total * 100\n",
    "    print(f\"Train Epoch {epoch}: Loss {running_loss:.3f},\\t Accuracy: {accuracy:.2f}%\")\n",
    "    return running_loss, accuracy"
   ]
  },
  {
   "cell_type": "code",
   "execution_count": 17,
   "metadata": {},
   "outputs": [],
   "source": [
    "@torch.no_grad()\n",
    "def validate(epoch, model, loader, criterion):\n",
    "    model.eval()\n",
    "    running_loss = 0.0\n",
    "    correct = 0\n",
    "    total = 0\n",
    "    y_true = []\n",
    "    y_pred = []\n",
    "\n",
    "    for i, (images, labels) in enumerate(loader):\n",
    "        images, labels = images.float().to(device), labels.float().to(device)\n",
    "        outputs = model(images)\n",
    "        outputs.squeeze_()\n",
    "        loss = criterion(outputs, labels)\n",
    "\n",
    "        running_loss += loss.item()\n",
    "\n",
    "        predicted = torch.round(F.sigmoid(outputs))\n",
    "        y_true.extend(labels.cpu().numpy())\n",
    "        y_pred.extend(predicted.cpu().numpy())\n",
    "    \n",
    "        total += labels.size(0)\n",
    "        correct += (predicted == labels).sum().item()\n",
    "    \n",
    "    running_loss /= len(loader)\n",
    "    accuracy = correct / total * 100\n",
    "    print(f\"Validation Epoch {epoch}: Loss {running_loss:.3f},\\t Accuracy: {accuracy:.2f}%\")\n",
    "    return y_true, y_pred"
   ]
  },
  {
   "cell_type": "code",
   "execution_count": 18,
   "metadata": {},
   "outputs": [
    {
     "name": "stdout",
     "output_type": "stream",
     "text": [
      "Train Epoch 0: Loss 0.077,\t Accuracy: 88.06%\n",
      "Train Epoch 1: Loss 0.038,\t Accuracy: 93.31%\n",
      "Train Epoch 2: Loss 0.028,\t Accuracy: 95.42%\n",
      "Train Epoch 3: Loss 0.027,\t Accuracy: 95.38%\n",
      "Train Epoch 4: Loss 0.020,\t Accuracy: 96.63%\n",
      "Validation Epoch None: Loss 0.060,\t Accuracy: 95.57%\n"
     ]
    }
   ],
   "source": [
    "torch.cuda.empty_cache()\n",
    "train_losses = []\n",
    "train_accuracies = []\n",
    "\n",
    "for epoch in range(NUM_EPOCHS):\n",
    "    train_loss, train_accuracy = train(epoch, model, train_loader, criterion, optimizer)\n",
    "\n",
    "    train_losses.append(train_loss)\n",
    "    train_accuracies.append(train_accuracy)\n",
    "labels, predictions = validate(None, model, validate_loader, criterion)\n",
    "\n",
    "conf_matrix = confusion_matrix(labels, predictions)\n",
    "report = classification_report(labels, predictions, target_names=folderClasses)"
   ]
  },
  {
   "cell_type": "code",
   "execution_count": 22,
   "metadata": {},
   "outputs": [
    {
     "name": "stdout",
     "output_type": "stream",
     "text": [
      "                                  precision    recall  f1-score   support\n",
      "\n",
      "non_globally_sclerotic_glomeruli       0.98      0.97      0.97       949\n",
      "    globally_sclerotic_glomeruli       0.87      0.89      0.88       203\n",
      "\n",
      "                        accuracy                           0.96      1152\n",
      "                       macro avg       0.92      0.93      0.92      1152\n",
      "                    weighted avg       0.96      0.96      0.96      1152\n",
      "\n"
     ]
    }
   ],
   "source": [
    "print(report)"
   ]
  },
  {
   "cell_type": "code",
   "execution_count": 19,
   "metadata": {},
   "outputs": [
    {
     "data": {
      "image/png": "[encoded data removed]",
      "text/plain": [
       "<Figure size 1500x500 with 2 Axes>"
      ]
     },
     "metadata": {},
     "output_type": "display_data"
    }
   ],
   "source": [
    "fig, ax = plt.subplots(1, 2, figsize=(15, 5))\n",
    "ax[0].plot(train_accuracies, label='Train Accuracy', color='blue')\n",
    "ax[1].plot(train_losses, label='Train Loss', color='red')\n",
    "plt.show()"
   ]
  },
  {
   "cell_type": "code",
   "execution_count": 20,
   "metadata": {},
   "outputs": [
    {
     "data": {
      "image/png": "[encoded data removed]",
      "text/plain": [
       "<Figure size 800x600 with 2 Axes>"
      ]
     },
     "metadata": {},
     "output_type": "display_data"
    }
   ],
   "source": [
    "def plot_confusion_matrix(cm, classes):\n",
    "    plt.figure(figsize=(8, 6))\n",
    "    plt.imshow(cm, interpolation='nearest', cmap=plt.cm.Blues)\n",
    "    plt.title('Confusion Matrix')\n",
    "    plt.colorbar()\n",
    "    tick_marks = np.arange(len(classes))\n",
    "    plt.xticks(tick_marks, classes, rotation=45)\n",
    "    plt.yticks(tick_marks, classes)\n",
    "\n",
    "    thresh = cm.max() / 2\n",
    "    for i in range(cm.shape[0]):\n",
    "        for j in range(cm.shape[1]):\n",
    "            plt.text(j, i, format(cm[i, j]),\n",
    "                     horizontalalignment=\"center\",\n",
    "                     color=\"white\" if cm[i, j] > thresh else \"black\")\n",
    "\n",
    "    plt.ylabel('True label')\n",
    "    plt.xlabel('Predicted label')\n",
    "    plt.tight_layout()\n",
    "    plt.show()\n",
    "\n",
    "plot_confusion_matrix(conf_matrix, folderClasses)"
   ]
  },
  {
   "cell_type": "code",
   "execution_count": null,
   "metadata": {},
   "outputs": [],
   "source": []
  }
 ],
 "metadata": {
  "kernelspec": {
   "display_name": "cmil_venv",
   "language": "python",
   "name": "python3"
  },
  "language_info": {
   "codemirror_mode": {
    "name": "ipython",
    "version": 3
   },
   "file_extension": ".py",
   "mimetype": "text/x-python",
   "name": "python",
   "nbconvert_exporter": "python",
   "pygments_lexer": "ipython3",
   "version": "3.10.0"
  }
 },
 "nbformat": 4,
 "nbformat_minor": 2
}
